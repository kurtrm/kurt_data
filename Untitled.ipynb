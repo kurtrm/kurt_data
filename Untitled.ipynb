{
 "cells": [
  {
   "cell_type": "code",
   "execution_count": 1,
   "metadata": {},
   "outputs": [],
   "source": [
    "from datetime import datetime\n",
    "\n",
    "\n",
    "FMT = '%m/%d/%Y'\n",
    "\n",
    "entry_1 = \"Today was the first day of 401, and we spent most of it talking about the syntax of python. Other than the prework, I have no real experience using python so the syntax is very different from what I'm used, particularly in the sense that whitespace matters for the structure of python. This will definitely take some time getting used to.\"\n",
    "entry_2 = \"Today I learned more about the syntax of Python and in particular, we practiced how to write recursive functions today. We talked about in class how using recursion (just plain by itself) is often times very slow but I think looking at how we are able to write methods in different ways was really cool. On top of that, today was our first time trying out test-driven-development. I think it's a really interesting philosophy that narrows the gap between writing tests to verify that the code works and actually writing the code.\"\n",
    "entry_3 = \"Today went pretty well. I've had some exposure to data structures in Java, so when I heard that Python had things like tuples or dictionaries, I was a bit confuse about what they were. After today, I learned that dictionaries in Python are very similar to hash maps in Java and lists in Python are similar to ArrayLists in Java. Makes things seem more familiar so that's comforting.\"\n",
    "entry_4 = \"Today we learned a bit about mutable and immutable types in Python. Honestly, it's still a bit confusing to me and I think I'll just have to wait a little while until it really sinks in. As for the assignment, I think John and I made really good progress on it. Before we started, we talked through the pseudocode to make sure we both understood what we had to do to get the module working as intended. It seemed like we both knew what to do in terms of the assignment, but a major obstacle, at least for me, was figuring out how to write the code in Python. Honestly I'm still not very comfortable with the language, but hopefully tomorrow's Code Wars assignment will help. I play on doing a bunch of 8 or 7 kyus, just to focus on getting a solid foundation.\"\n",
    "entry_5 = \"I finished the day of code and I didn't find the katas that difficult. The thing that took the most time was writing the tests and setting up the tox files for each module. I think I spent at least twice as much time setting up and writing the files than I did actually solving the katas. Still, I think today was helpful in helping me get more comfortable with the Python syntax. Looking forward a day off tomorrow.\"\n",
    "entry_6 = \"Today was a big day. We learned about objects and classes, began implementing our first abstract data type, and learned about various protocols about how the internet works. Honestly it was a huge amount of information and the demos in class went by so quickly I think I need some time before it really starts to sink in. Hopefully it'll become clearer as the week goes on.\"\n",
    "entry_7 = \"Today we continued with our data structures and implemented a stack. I'm glad that this came the day after we did linked-list and the code review we did in class was so thorough. I found it really helpful and I hope that we continue to do reviews like that. As for the HTTP stuff, I'm still a bit iffy on the whole subject. I learned today that of the four main HTTP methods, only GET is considered safe as it does not modify things on the server. Tonight's reading dived even deeper into the details of HTTP 1.1 headers, requests, and responses. Still not very comfortable with the topic, but we'll see how it goes.\"\n",
    "entry_8 = \"Today we learned about accessing Python super class methods and method resolution order when calling on super. For today's code review we talked about how differences in the version of Python we're using could cause problems in our code, but going through it as a class really helped clear it all out. Today we had a whiteboard challenge with Linked Lists. Brian and I did make small mistakes in the beginning not realizing that when we pushed, we were pushing on to the head and not appending it to the end so our final list was actually in reverse order. It was a stupid mistake and I was a little embarrassed realizing it only after we had called over an instructor to look over it, but I guess the experience will make it easy to remember in the future. After that, we were able to solve the other added challenges the TAs gave us. It was really great working with Brian.\"\n",
    "entry_9 = \"Another day, another data structure. Making progress on both the server and the structs. Really cool lightning talk about prime numbers today from Joseph. Much of it was over my head, but it really helped make the fuzzy ideas I had about them slightly clearer. Looking forward to tomorrow, my groups and I should be able to get pretty close to completion for the week.\"\n",
    "entry_10 = \"Today was a big code review day and we also did our weekly gist, with an added whiteboard challenge. I thought my solution to the gist was okay, until I saw the one posted in the Slack channel. Wow, I didn't even know you could sort strings and compare them like that. Also for the whiteboard challenge, I came up with a solution but it wasn't the O(n) solution that the TAs wanted. I have a lot to improve on. Max and I started on the concurrency lab, but we were getting some sort of weird error. Also need to finish that over the weekend.\"\n",
    "entry_11 = \"Today we learned about Pyramid and did a walk through in class about all the moving parts needed to set up a static website. It went by quickly and honestly it took me a while to quite wrap my head around (I probably still don't fully understand it) but I think as long as I approach it day by day, it should be okay. We also got our groups today and I'm really humbled to be in a group with such bright people. We started talking about potential project ideas, but nothing really concrete as of yet. Anyways, I'm excited to see what we all can build as a team.\"\n",
    "entry_12 = \"Today we learned about templating using Jinja2 and how to actually serve unique content using the templates we stored in our app. I think I'm slowly starting to wrap my head around using Pyramid, but that's really only because of Nick's code demo in class today. These past few labs have been tough, but at the very least, I find myself eager to come in the next day to hear Nick's explanation so I can understand yesterday's material better, so I guess that's sort of nice.\"\n",
    "entry_13 = \"Today we learned about implementing SQL and databases to our blog. It feels like another part of Pyramid that has a lot of moving parts, so I want to get started on it as soon as possible but I still have a bit to catch up on for day two. I'm feeling a little stressed about being behind in the labs, but at least I'll have until Monday to catch up. Data structures on the other hand are going well. Ford showed me that there is more than one way to implement an ADT and that depending on how you implement, you can optimize for certain operations, e.g. if you plan on pushing more than popping you might want to optimize so your push method is only O(1) while your pop could be O(n) vs. implementing it with a binary heap which would have O(log n) for both pushing and popping. Really cool stuff.\"\n",
    "entry_14 = \"Today we talked about graphs and learned a little more about working with our database. I have a lot to catch up on for the Pyramid assignment, but I'm happy that I have both the notes, the demo Nick provided, and the class lectures available to be able to review and finish the assignments. Besides that, data structures are going well and I'm really interested to see where we go with graphs.\"\n",
    "entry_15 = \"Today was mostly review and going through the first few steps of the pyramid assignment. I thought the demo was incredibly helpful, it really helped to have an explanation after each modification explaining why we were doing that particular thing. My understanding of Pyramid has definitely improved after today.\"\n",
    "\n",
    "JOURNALS = [\n",
    "    {'id': 1, 'title': 'Day 1', 'date': datetime.strptime('10/16/2017', FMT).date(), 'body': entry_1},\n",
    "    {'id': 2, 'title': 'Day 2', 'date': datetime.strptime('10/17/2017', FMT).date(), 'body': entry_2},\n",
    "    {'id': 3, 'title': 'Day 3', 'date': datetime.strptime('10/19/2017', FMT).date(), 'body': entry_3},\n",
    "    {'id': 4, 'title': 'Day 4', 'date': datetime.strptime('10/20/2017', FMT).date(), 'body': entry_4},\n",
    "    {'id': 5, 'title': 'Day 5', 'date': datetime.strptime('10/21/2017', FMT).date(), 'body': entry_5},\n",
    "    {'id': 6, 'title': 'Day 6', 'date': datetime.strptime('10/23/2017', FMT).date(), 'body': entry_6},\n",
    "    {'id': 7, 'title': 'Day 7', 'date': datetime.strptime('10/24/2017', FMT).date(), 'body': entry_7},\n",
    "    {'id': 8, 'title': 'Day 8', 'date': datetime.strptime('10/25/2017', FMT).date(), 'body': entry_8},\n",
    "    {'id': 9, 'title': 'Day 9', 'date': datetime.strptime('10/26/2017', FMT).date(), 'body': entry_9},\n",
    "    {'id': 10, 'title': 'Day 10', 'date': datetime.strptime('10/27/2017', FMT).date(), 'body': entry_10},\n",
    "    {'id': 11, 'title': 'Day 11', 'date': datetime.strptime('10/30/2017', FMT).date(), 'body': entry_11},\n",
    "    {'id': 12, 'title': 'Day 12', 'date': datetime.strptime('10/31/2017', FMT).date(), 'body': entry_12},\n",
    "    {'id': 13, 'title': 'Day 13', 'date': datetime.strptime('11/01/2017', FMT).date(), 'body': entry_13},\n",
    "    {'id': 14, 'title': 'Day 14', 'date': datetime.strptime('11/02/2017', FMT).date(), 'body': entry_14},\n",
    "    {'id': 15, 'title': 'Day 15', 'date': datetime.strptime('11/03/2017', FMT).date(), 'body': entry_15}\n",
    "]\n",
    "\n",
    "\n",
    "def journal_filter(id):\n",
    "    the_journal = list(filter(lambda x: x['id'] == id, JOURNALS))[0]\n",
    "    return the_journal\n",
    "\n",
    "def journal_comp(id):\n",
    "    the_journal = [dicty for dicty in JOURNALS if dicty['id'] == id][0]\n",
    "    return the_journal\n"
   ]
  },
  {
   "cell_type": "code",
   "execution_count": 11,
   "metadata": {},
   "outputs": [
    {
     "name": "stdout",
     "output_type": "stream",
     "text": [
      "2.82 µs ± 382 ns per loop (mean ± std. dev. of 7 runs, 1000000 loops each)\n"
     ]
    }
   ],
   "source": [
    "%%timeit -n 1000000\n",
    "journal_filter(10)"
   ]
  },
  {
   "cell_type": "code",
   "execution_count": 12,
   "metadata": {},
   "outputs": [
    {
     "name": "stdout",
     "output_type": "stream",
     "text": [
      "1.11 µs ± 61 ns per loop (mean ± std. dev. of 7 runs, 1000000 loops each)\n"
     ]
    }
   ],
   "source": [
    "%%timeit -n 1000000\n",
    "journal_comp(10)"
   ]
  },
  {
   "cell_type": "code",
   "execution_count": null,
   "metadata": {},
   "outputs": [],
   "source": []
  }
 ],
 "metadata": {
  "kernelspec": {
   "display_name": "Python 3",
   "language": "python",
   "name": "python3"
  },
  "language_info": {
   "codemirror_mode": {
    "name": "ipython",
    "version": 3
   },
   "file_extension": ".py",
   "mimetype": "text/x-python",
   "name": "python",
   "nbconvert_exporter": "python",
   "pygments_lexer": "ipython3",
   "version": "3.6.3"
  }
 },
 "nbformat": 4,
 "nbformat_minor": 2
}
