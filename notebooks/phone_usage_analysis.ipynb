{
 "cells": [
  {
   "cell_type": "markdown",
   "metadata": {},
   "source": [
    "## Communication Graph\n",
    "\n",
    "This notebook is dedicated to exploration and pattern finding in my cell phone bills which are in PDF formats. The ultimate goal is to make a graph out of it.\n",
    "\n",
    "After developing a pattern, I'll make a function or a class to do everything for me.\n",
    "\n",
    "#### Exploration and Pattern Finding\n",
    "\n",
    "The first section is just exploration."
   ]
  },
  {
   "cell_type": "code",
   "execution_count": 118,
   "metadata": {
    "collapsed": true,
    "scrolled": true
   },
   "outputs": [],
   "source": [
    "# Set up.\n",
    "%matplotlib inline\n",
    "\n",
    "import matplotlib as plt\n",
    "import numpy as np\n",
    "import os\n",
    "import pandas as pd\n",
    "import PyPDF2\n",
    "import re\n",
    "import seaborn\n",
    "import sys\n",
    "import networkx\n",
    "\n",
    "from IPython.core.interactiveshell import InteractiveShell\n",
    "InteractiveShell.ast_node_interactivity = 'all'\n",
    "\n",
    "from src.tmobile_bill_parser import (parse_bill, parse_multiple_bills)"
   ]
  },
  {
   "cell_type": "code",
   "execution_count": 119,
   "metadata": {},
   "outputs": [
    {
     "data": {
      "text/plain": [
       "True"
      ]
     },
     "execution_count": 119,
     "metadata": {},
     "output_type": "execute_result"
    }
   ],
   "source": [
    "os.path.isdir('../bills')"
   ]
  },
  {
   "cell_type": "code",
   "execution_count": 120,
   "metadata": {
    "collapsed": true
   },
   "outputs": [],
   "source": [
    "bill_directory = parse_multiple_bills('../bills')"
   ]
  },
  {
   "cell_type": "markdown",
   "metadata": {},
   "source": [
    "### Introduction\n",
    "\n",
    "- [x] Make all data the proper datatype.\n",
    "- [n/a] Separate destination into city and state.\n",
    "- [x] Numbers must be in roughly the same format.\n",
    "- [x] Treat Text, Data, and Talk as separate tables or graphs."
   ]
  },
  {
   "cell_type": "code",
   "execution_count": 121,
   "metadata": {
    "collapsed": true,
    "scrolled": true
   },
   "outputs": [],
   "source": [
    "text_dfs = [pd.DataFrame(bill_directory[bill_period]['Text']) for bill_period in bill_directory]\n",
    "data_dfs = [pd.DataFrame(bill_directory[bill_period]['Data']) for bill_period in bill_directory]\n",
    "talk_dfs = [pd.DataFrame(bill_directory[bill_period]['Talk']) for bill_period in bill_directory]\n",
    "\n",
    "text_df = pd.concat(text_dfs).reset_index()\n",
    "data_df = pd.concat(data_dfs).reset_index()\n",
    "talk_df = pd.concat(talk_dfs).reset_index()"
   ]
  },
  {
   "cell_type": "code",
   "execution_count": 122,
   "metadata": {},
   "outputs": [
    {
     "data": {
      "text/plain": [
       "-    14526\n",
       "Name: Amount, dtype: int64"
      ]
     },
     "execution_count": 122,
     "metadata": {},
     "output_type": "execute_result"
    }
   ],
   "source": [
    "text_df['Amount'].value_counts()\n",
    "text = text_df.drop(['Amount'], axis=1)"
   ]
  },
  {
   "cell_type": "code",
   "execution_count": 123,
   "metadata": {
    "scrolled": true
   },
   "outputs": [
    {
     "name": "stdout",
     "output_type": "stream",
     "text": [
      "<class 'pandas.core.frame.DataFrame'>\n",
      "RangeIndex: 4632 entries, 0 to 4631\n",
      "Data columns (total 7 columns):\n",
      "index            4632 non-null int64\n",
      "Amount           4632 non-null object\n",
      "Date and time    4632 non-null object\n",
      "MB               4632 non-null object\n",
      "Origin           4632 non-null object\n",
      "Service          4632 non-null object\n",
      "Type             4632 non-null object\n",
      "dtypes: int64(1), object(6)\n",
      "memory usage: 253.4+ KB\n"
     ]
    },
    {
     "data": {
      "text/html": [
       "<div>\n",
       "<style>\n",
       "    .dataframe thead tr:only-child th {\n",
       "        text-align: right;\n",
       "    }\n",
       "\n",
       "    .dataframe thead th {\n",
       "        text-align: left;\n",
       "    }\n",
       "\n",
       "    .dataframe tbody tr th {\n",
       "        vertical-align: top;\n",
       "    }\n",
       "</style>\n",
       "<table border=\"1\" class=\"dataframe\">\n",
       "  <thead>\n",
       "    <tr style=\"text-align: right;\">\n",
       "      <th></th>\n",
       "      <th>index</th>\n",
       "      <th>Amount</th>\n",
       "      <th>Date and time</th>\n",
       "      <th>MB</th>\n",
       "      <th>Origin</th>\n",
       "      <th>Service</th>\n",
       "      <th>Type</th>\n",
       "    </tr>\n",
       "  </thead>\n",
       "  <tbody>\n",
       "    <tr>\n",
       "      <th>0</th>\n",
       "      <td>0</td>\n",
       "      <td>-</td>\n",
       "      <td>04/19/16, 12:15 AM</td>\n",
       "      <td>0.0097</td>\n",
       "      <td>-</td>\n",
       "      <td>Mobile Internet</td>\n",
       "      <td>-</td>\n",
       "    </tr>\n",
       "    <tr>\n",
       "      <th>1</th>\n",
       "      <td>1</td>\n",
       "      <td>-</td>\n",
       "      <td>04/19/16, 5:15 AM</td>\n",
       "      <td>0.0087</td>\n",
       "      <td>-</td>\n",
       "      <td>Mobile Internet</td>\n",
       "      <td>-</td>\n",
       "    </tr>\n",
       "    <tr>\n",
       "      <th>2</th>\n",
       "      <td>2</td>\n",
       "      <td>-</td>\n",
       "      <td>04/19/16, 6:20 AM</td>\n",
       "      <td>0.0644</td>\n",
       "      <td>-</td>\n",
       "      <td>Mobile Internet</td>\n",
       "      <td>-</td>\n",
       "    </tr>\n",
       "    <tr>\n",
       "      <th>3</th>\n",
       "      <td>3</td>\n",
       "      <td>-</td>\n",
       "      <td>04/19/16, 6:22 AM</td>\n",
       "      <td>0.1093</td>\n",
       "      <td>-</td>\n",
       "      <td>Mobile Internet</td>\n",
       "      <td>-</td>\n",
       "    </tr>\n",
       "    <tr>\n",
       "      <th>4</th>\n",
       "      <td>4</td>\n",
       "      <td>-</td>\n",
       "      <td>04/19/16, 6:26 AM</td>\n",
       "      <td>0.2158</td>\n",
       "      <td>-</td>\n",
       "      <td>Mobile Internet</td>\n",
       "      <td>-</td>\n",
       "    </tr>\n",
       "  </tbody>\n",
       "</table>\n",
       "</div>"
      ],
      "text/plain": [
       "   index Amount       Date and time      MB Origin          Service Type\n",
       "0      0      -  04/19/16, 12:15 AM  0.0097      -  Mobile Internet    -\n",
       "1      1      -   04/19/16, 5:15 AM  0.0087      -  Mobile Internet    -\n",
       "2      2      -   04/19/16, 6:20 AM  0.0644      -  Mobile Internet    -\n",
       "3      3      -   04/19/16, 6:22 AM  0.1093      -  Mobile Internet    -\n",
       "4      4      -   04/19/16, 6:26 AM  0.2158      -  Mobile Internet    -"
      ]
     },
     "execution_count": 123,
     "metadata": {},
     "output_type": "execute_result"
    }
   ],
   "source": [
    "data_df.info()\n",
    "data_df.head()\n",
    "data = data_df.drop(['Amount', 'Origin', 'Type', 'Service'], axis=1)"
   ]
  },
  {
   "cell_type": "code",
   "execution_count": 124,
   "metadata": {},
   "outputs": [
    {
     "data": {
      "text/plain": [
       "-    1774\n",
       "Name: Amount, dtype: int64"
      ]
     },
     "execution_count": 124,
     "metadata": {},
     "output_type": "execute_result"
    }
   ],
   "source": [
    "talk_df['Amount'].value_counts()\n",
    "talk = talk_df.drop(['Amount', 'Type'], axis=1)"
   ]
  },
  {
   "cell_type": "code",
   "execution_count": 125,
   "metadata": {},
   "outputs": [
    {
     "data": {
      "text/html": [
       "<div>\n",
       "<style>\n",
       "    .dataframe thead tr:only-child th {\n",
       "        text-align: right;\n",
       "    }\n",
       "\n",
       "    .dataframe thead th {\n",
       "        text-align: left;\n",
       "    }\n",
       "\n",
       "    .dataframe tbody tr th {\n",
       "        vertical-align: top;\n",
       "    }\n",
       "</style>\n",
       "<table border=\"1\" class=\"dataframe\">\n",
       "  <thead>\n",
       "    <tr style=\"text-align: right;\">\n",
       "      <th></th>\n",
       "      <th>index</th>\n",
       "      <th>Date and time</th>\n",
       "      <th>Description</th>\n",
       "      <th>Min</th>\n",
       "      <th>Number</th>\n",
       "    </tr>\n",
       "  </thead>\n",
       "  <tbody>\n",
       "    <tr>\n",
       "      <th>0</th>\n",
       "      <td>0</td>\n",
       "      <td>04/19/16, 10:01 AM</td>\n",
       "      <td>to GRAND PRAR/TX</td>\n",
       "      <td>1</td>\n",
       "      <td>(469) 531-9999</td>\n",
       "    </tr>\n",
       "    <tr>\n",
       "      <th>1</th>\n",
       "      <td>1</td>\n",
       "      <td>04/19/16, 11:53 AM</td>\n",
       "      <td>to AUBURN/AL</td>\n",
       "      <td>7</td>\n",
       "      <td>(334) 728-0615</td>\n",
       "    </tr>\n",
       "    <tr>\n",
       "      <th>2</th>\n",
       "      <td>2</td>\n",
       "      <td>04/19/16, 3:32 PM</td>\n",
       "      <td>to AUBURN/AL</td>\n",
       "      <td>14</td>\n",
       "      <td>(334) 728-0615</td>\n",
       "    </tr>\n",
       "    <tr>\n",
       "      <th>3</th>\n",
       "      <td>3</td>\n",
       "      <td>04/20/16, 6:30 AM</td>\n",
       "      <td>Incoming</td>\n",
       "      <td>7</td>\n",
       "      <td>(334) 728-0615</td>\n",
       "    </tr>\n",
       "    <tr>\n",
       "      <th>4</th>\n",
       "      <td>4</td>\n",
       "      <td>04/20/16, 6:48 AM</td>\n",
       "      <td>to OPELIKA/AL</td>\n",
       "      <td>7</td>\n",
       "      <td>(334) 559-0212</td>\n",
       "    </tr>\n",
       "  </tbody>\n",
       "</table>\n",
       "</div>"
      ],
      "text/plain": [
       "   index       Date and time       Description Min          Number\n",
       "0      0  04/19/16, 10:01 AM  to GRAND PRAR/TX   1  (469) 531-9999\n",
       "1      1  04/19/16, 11:53 AM      to AUBURN/AL   7  (334) 728-0615\n",
       "2      2   04/19/16, 3:32 PM      to AUBURN/AL  14  (334) 728-0615\n",
       "3      3   04/20/16, 6:30 AM          Incoming   7  (334) 728-0615\n",
       "4      4   04/20/16, 6:48 AM     to OPELIKA/AL   7  (334) 559-0212"
      ]
     },
     "execution_count": 125,
     "metadata": {},
     "output_type": "execute_result"
    },
    {
     "data": {
      "text/html": [
       "<div>\n",
       "<style>\n",
       "    .dataframe thead tr:only-child th {\n",
       "        text-align: right;\n",
       "    }\n",
       "\n",
       "    .dataframe thead th {\n",
       "        text-align: left;\n",
       "    }\n",
       "\n",
       "    .dataframe tbody tr th {\n",
       "        vertical-align: top;\n",
       "    }\n",
       "</style>\n",
       "<table border=\"1\" class=\"dataframe\">\n",
       "  <thead>\n",
       "    <tr style=\"text-align: right;\">\n",
       "      <th></th>\n",
       "      <th>index</th>\n",
       "      <th>Date and time</th>\n",
       "      <th>Destination</th>\n",
       "      <th>Direction</th>\n",
       "      <th>Number</th>\n",
       "      <th>Type</th>\n",
       "    </tr>\n",
       "  </thead>\n",
       "  <tbody>\n",
       "    <tr>\n",
       "      <th>0</th>\n",
       "      <td>0</td>\n",
       "      <td>04/19/16, 12:14 PM</td>\n",
       "      <td>Auburn, AL</td>\n",
       "      <td>Incoming</td>\n",
       "      <td>(334) 703-1602</td>\n",
       "      <td>Text</td>\n",
       "    </tr>\n",
       "    <tr>\n",
       "      <th>1</th>\n",
       "      <td>1</td>\n",
       "      <td>04/19/16, 12:14 PM</td>\n",
       "      <td>Auburn, AL</td>\n",
       "      <td>Incoming</td>\n",
       "      <td>(334) 703-1602</td>\n",
       "      <td>Text</td>\n",
       "    </tr>\n",
       "    <tr>\n",
       "      <th>2</th>\n",
       "      <td>2</td>\n",
       "      <td>04/19/16, 12:59 PM</td>\n",
       "      <td>Auburn, AL</td>\n",
       "      <td>Outgoing</td>\n",
       "      <td>(334) 703-1602</td>\n",
       "      <td>Text</td>\n",
       "    </tr>\n",
       "    <tr>\n",
       "      <th>3</th>\n",
       "      <td>3</td>\n",
       "      <td>04/19/16, 1:02 PM</td>\n",
       "      <td>Auburn, AL</td>\n",
       "      <td>Incoming</td>\n",
       "      <td>(334) 703-1602</td>\n",
       "      <td>Text</td>\n",
       "    </tr>\n",
       "    <tr>\n",
       "      <th>4</th>\n",
       "      <td>4</td>\n",
       "      <td>04/19/16, 1:22 PM</td>\n",
       "      <td>Auburn, AL</td>\n",
       "      <td>Incoming</td>\n",
       "      <td>(334) 703-1602</td>\n",
       "      <td>Text</td>\n",
       "    </tr>\n",
       "  </tbody>\n",
       "</table>\n",
       "</div>"
      ],
      "text/plain": [
       "   index       Date and time Destination Direction          Number  Type\n",
       "0      0  04/19/16, 12:14 PM  Auburn, AL  Incoming  (334) 703-1602  Text\n",
       "1      1  04/19/16, 12:14 PM  Auburn, AL  Incoming  (334) 703-1602  Text\n",
       "2      2  04/19/16, 12:59 PM  Auburn, AL  Outgoing  (334) 703-1602  Text\n",
       "3      3   04/19/16, 1:02 PM  Auburn, AL  Incoming  (334) 703-1602  Text\n",
       "4      4   04/19/16, 1:22 PM  Auburn, AL  Incoming  (334) 703-1602  Text"
      ]
     },
     "execution_count": 125,
     "metadata": {},
     "output_type": "execute_result"
    },
    {
     "data": {
      "text/html": [
       "<div>\n",
       "<style>\n",
       "    .dataframe thead tr:only-child th {\n",
       "        text-align: right;\n",
       "    }\n",
       "\n",
       "    .dataframe thead th {\n",
       "        text-align: left;\n",
       "    }\n",
       "\n",
       "    .dataframe tbody tr th {\n",
       "        vertical-align: top;\n",
       "    }\n",
       "</style>\n",
       "<table border=\"1\" class=\"dataframe\">\n",
       "  <thead>\n",
       "    <tr style=\"text-align: right;\">\n",
       "      <th></th>\n",
       "      <th>index</th>\n",
       "      <th>Date and time</th>\n",
       "      <th>MB</th>\n",
       "    </tr>\n",
       "  </thead>\n",
       "  <tbody>\n",
       "    <tr>\n",
       "      <th>0</th>\n",
       "      <td>0</td>\n",
       "      <td>04/19/16, 12:15 AM</td>\n",
       "      <td>0.0097</td>\n",
       "    </tr>\n",
       "    <tr>\n",
       "      <th>1</th>\n",
       "      <td>1</td>\n",
       "      <td>04/19/16, 5:15 AM</td>\n",
       "      <td>0.0087</td>\n",
       "    </tr>\n",
       "    <tr>\n",
       "      <th>2</th>\n",
       "      <td>2</td>\n",
       "      <td>04/19/16, 6:20 AM</td>\n",
       "      <td>0.0644</td>\n",
       "    </tr>\n",
       "    <tr>\n",
       "      <th>3</th>\n",
       "      <td>3</td>\n",
       "      <td>04/19/16, 6:22 AM</td>\n",
       "      <td>0.1093</td>\n",
       "    </tr>\n",
       "    <tr>\n",
       "      <th>4</th>\n",
       "      <td>4</td>\n",
       "      <td>04/19/16, 6:26 AM</td>\n",
       "      <td>0.2158</td>\n",
       "    </tr>\n",
       "  </tbody>\n",
       "</table>\n",
       "</div>"
      ],
      "text/plain": [
       "   index       Date and time      MB\n",
       "0      0  04/19/16, 12:15 AM  0.0097\n",
       "1      1   04/19/16, 5:15 AM  0.0087\n",
       "2      2   04/19/16, 6:20 AM  0.0644\n",
       "3      3   04/19/16, 6:22 AM  0.1093\n",
       "4      4   04/19/16, 6:26 AM  0.2158"
      ]
     },
     "execution_count": 125,
     "metadata": {},
     "output_type": "execute_result"
    }
   ],
   "source": [
    "talk.head()\n",
    "text.head()\n",
    "data.head()"
   ]
  },
  {
   "cell_type": "code",
   "execution_count": 126,
   "metadata": {
    "collapsed": true
   },
   "outputs": [],
   "source": [
    "data['Date and time'] = pd.to_datetime(data['Date and time'])\n",
    "text['Date and time'] = pd.to_datetime(text['Date and time'])\n",
    "talk['Date and time'] = pd.to_datetime(talk['Date and time'])\n",
    "data['MB'] = pd.to_numeric(data['MB'])\n",
    "talk['Min'] = pd.to_numeric(talk['Min'])"
   ]
  },
  {
   "cell_type": "markdown",
   "metadata": {},
   "source": [
    "I think the Data column is good for a seeing usage over a period of time, maybe seeing if there's a pattern in the my activity over the course of a day, or days of the week I'm more active. Otherwise, I may cache that for later.\n",
    "\n",
    "I think there's a number of graphs to be made form the Text and Talk sets.\n",
    "\n",
    "#### Text \n",
    "\n",
    "- A graph between me and identifiable phone numbers, outgoing.\n",
    "- A graph between me and identifiable phone numbers, incoming.\n",
    "- A graph between me (Seattle) and destinations, though this may not be accurate since the destination seems to be based on the area code of the phone number.\n",
    "- Activity over a day, week, or month.\n",
    "\n",
    "#### Talk\n",
    "- A weighted graph showing calls between phone numbers (people) and time talking.\n",
    "- A graph between me and identifiable phone numbers, outgoing.\n",
    "- A graph between me and identifiable phone numbers, incoming."
   ]
  },
  {
   "cell_type": "code",
   "execution_count": 127,
   "metadata": {
    "scrolled": true
   },
   "outputs": [
    {
     "data": {
      "text/plain": [
       "Index(['index', 'Date and time', 'MB'], dtype='object')"
      ]
     },
     "execution_count": 127,
     "metadata": {},
     "output_type": "execute_result"
    },
    {
     "name": "stdout",
     "output_type": "stream",
     "text": [
      "0\n",
      "0\n",
      "0\n"
     ]
    }
   ],
   "source": [
    "data.columns\n",
    "for column in data.columns:\n",
    "    try:\n",
    "        data[column].value_counts()['-']\n",
    "    except KeyError:\n",
    "        print(0)"
   ]
  },
  {
   "cell_type": "markdown",
   "metadata": {},
   "source": [
    "- [x] TODO: text['Destination'] contains 629 '-'.  \n",
    "- [x] TODO: phone numbers need to be normalized.  \n",
    "- [x] TODO: destination needs to be normalized."
   ]
  },
  {
   "cell_type": "code",
   "execution_count": 128,
   "metadata": {
    "collapsed": true
   },
   "outputs": [],
   "source": [
    "#  Worth noting that area codes will never begin with 1.\n",
    "phone_number_re = re.compile(r'''1?(-|\\s|\\.)?(\\d{3}|\\(\\d{3}\\))(-|\\s|\\.)?\\d{3}(-|\\s|\\.)?\\d{4}''', re.VERBOSE)\n",
    "phone_str = r'1?(-|\\s|\\.)?(\\d{3}|\\(\\d{3}\\))(-|\\s|\\.)?\\d{3}(-|\\s|\\.)?\\d{4}'\n",
    "destination_re = re.compile(r'(\\w), (\\w)')\n",
    "destination_str = r'([\\w\\s]+), (\\w+)'"
   ]
  },
  {
   "cell_type": "code",
   "execution_count": 129,
   "metadata": {
    "collapsed": true
   },
   "outputs": [],
   "source": [
    "text_num_bool = text['Number'].str.match(phone_str)\n",
    "text_dest_bool = text['Destination'].str.match(destination_str)\n",
    "talk_num_bool = talk['Number'].str.match(phone_str)"
   ]
  },
  {
   "cell_type": "code",
   "execution_count": 130,
   "metadata": {
    "collapsed": true,
    "scrolled": true
   },
   "outputs": [],
   "source": [
    "dest_negatives = text[text_dest_bool == False]['Destination'].value_counts()\n",
    "text_negatives = text[text_num_bool == False]['Number'].value_counts()\n",
    "talk_negatives = talk[talk_num_bool == False]['Number'].value_counts()"
   ]
  },
  {
   "cell_type": "code",
   "execution_count": 131,
   "metadata": {
    "collapsed": true
   },
   "outputs": [],
   "source": [
    "def format_phone(number):\n",
    "    numb = number.string\n",
    "    if numb[0] == '1':\n",
    "        numb = numb[1:]\n",
    "    return '({}) {}-{}'.format(numb[:3], numb[3:6], numb[6:])"
   ]
  },
  {
   "cell_type": "code",
   "execution_count": 132,
   "metadata": {
    "collapsed": true,
    "scrolled": true
   },
   "outputs": [],
   "source": [
    "text_norm_numbers = text[text_num_bool == True]['Number'].str.replace(r'\\d{10,11}', format_phone)\n",
    "talk_norm_numbers = talk[talk_num_bool == True]['Number'].str.replace(r'\\d{10,11}', format_phone)"
   ]
  },
  {
   "cell_type": "code",
   "execution_count": 133,
   "metadata": {
    "collapsed": true,
    "scrolled": false
   },
   "outputs": [],
   "source": [
    "final_text = text[text_num_bool == True]\n",
    "final_text = final_text[final_text['Destination'].str.match(destination_str) == True]\n",
    "final_talk = talk[talk_num_bool == True]"
   ]
  },
  {
   "cell_type": "code",
   "execution_count": 134,
   "metadata": {
    "scrolled": true
   },
   "outputs": [
    {
     "name": "stderr",
     "output_type": "stream",
     "text": [
      "SettingWithCopyWarning: \n",
      "A value is trying to be set on a copy of a slice from a DataFrame.\n",
      "Try using .loc[row_indexer,col_indexer] = value instead\n",
      "\n",
      "See the caveats in the documentation: http://pandas.pydata.org/pandas-docs/stable/indexing.html#indexing-view-versus-copy [ipykernel_launcher.py:2]\n"
     ]
    }
   ],
   "source": [
    "final_text['Number'] = final_text['Number'].str.replace(r'\\d{10,11}', format_phone)\n",
    "final_talk['Number'] = final_talk['Number'].str.replace(r'\\d{10,11}', format_phone)"
   ]
  },
  {
   "cell_type": "markdown",
   "metadata": {},
   "source": [
    "### Initial Analysis\n",
    "\n",
    "#### Data:\n",
    "The data information is not suitable for a graph data structure. I think it would be interesting to visualize it using bar or line graphs to measure activity over time. Some questions that could be answered are:\n",
    "\n",
    "- Which days am I more active?\n",
    "- Which times throughout the day am I more active?\n",
    "- What's different about days that there is more data consumption via T-Mobile's data services vice wifi?\n",
    "- How has my consumption changed over time?\n",
    "\n",
    "It's worth noting that this doesn't measure my total internet activity. It is merely seeing my data consumption through T-Mobile services. This leads to some additional inquiries:\n",
    "\n",
    "- Does my phone track data consumption over time?\n",
    "- Does Comcast track my data consumption at home and is it available to me?\n",
    "\n",
    "#### Talk:\n",
    "The are several angles to take with this data set, and much of it will be similar to __Text__. First, the graph data structure. I'd be interested in seeing total incoming and outgoing calls between me and all other nodes over the entire time period available. It could then be split into just incoming calls and just outgoing calls. I could make a dictionary of all known or easily identifiable phone numbers and make the nodes names of contacts rather than numbers. As far as node/edge weights, there's two things to consider: call frequency and call duration. This distinction is important because duration/frequency represent different measures of significance of a given contact. For example, I may have hundreds of calls to Melissa, but we usually only talk briefly to discuss logistical stuff because we are so heavily involved in each other's lives. However, I have much longer calls to my mother because she lives far away (and loves to talk). This may be a visualization problem. \n",
    "\n",
    "#### Text:\n",
    "All the same problems of talk apply to text with exception of call duration. In addition, we know have an opportunity to graph the nodes by location (The phone number's area code really). So we could make the graph just like __Talk__. Thinking about it further, the destination isn't useful at all. Many contacts will have no affiliation (anymore) with the area code from which they first received their phone number. I think the use in the Destination column would be to have other data available by which we could compare people's actual location to the destination logged by T-Mobile.\n",
    "\n",
    "### Additional things I'd like to do.\n",
    "Looking at __Talk__, I think it would be smart to do the following:\n",
    "\n",
    "For the graph:\n",
    "\n",
    "- We won't care about the date and time.\n",
    "- Divide the table into incoming and outgoing.\n",
    "- Group by number, sum the minutes for each number, and add a 'Frequency' (Count) column to each number.\n",
    "\n",
    "- Make a seperate graph that ignores the 'Description' distinction.\n",
    "\n",
    "Visualization:\n",
    "\n",
    "- I don't think it would be productive to get too granular into the time (for now), so we can further split the data weeks and months. \n",
    "- Choose the top ten most called numbers and make histograms by week and month (total, outgoing, and incoming, each). \n",
    "- Do the same as above except with call duration ('Min').\n",
    "\n",
    "__Text__:\n",
    "\n",
    "- Same for __Talk__, but there will be no 'Min' sum.\n",
    "\n",
    "__Data__:\n",
    "\n",
    "- See above for guidance.\n",
    "\n",
    "### Other thoughts:\n",
    "\n",
    "- I'd like to adapt the weighted graph we made in school for this project. Two issues arise with this: - It inherits from dict, thus I'd rather have it be a composition of a dict so we don't methods available that could screw up the graph. - I need to have a better understanding of graph databases to understand how this would work. \n",
    "\n",
    "- This graph is going to be one node(me) with a ton of leaves(my contacts). To really make this a better product, I should think about obtaining my girlfriend's bill as well as my parents. That will really make this more interesting."
   ]
  },
  {
   "cell_type": "code",
   "execution_count": 135,
   "metadata": {
    "scrolled": true
   },
   "outputs": [
    {
     "data": {
      "text/html": [
       "<div>\n",
       "<style>\n",
       "    .dataframe thead tr:only-child th {\n",
       "        text-align: right;\n",
       "    }\n",
       "\n",
       "    .dataframe thead th {\n",
       "        text-align: left;\n",
       "    }\n",
       "\n",
       "    .dataframe tbody tr th {\n",
       "        vertical-align: top;\n",
       "    }\n",
       "</style>\n",
       "<table border=\"1\" class=\"dataframe\">\n",
       "  <thead>\n",
       "    <tr style=\"text-align: right;\">\n",
       "      <th></th>\n",
       "      <th>index</th>\n",
       "      <th>Date and time</th>\n",
       "      <th>Description</th>\n",
       "      <th>Min</th>\n",
       "      <th>Number</th>\n",
       "    </tr>\n",
       "  </thead>\n",
       "  <tbody>\n",
       "    <tr>\n",
       "      <th>0</th>\n",
       "      <td>0</td>\n",
       "      <td>2016-04-19 10:01:00</td>\n",
       "      <td>to GRAND PRAR/TX</td>\n",
       "      <td>1</td>\n",
       "      <td>(469) 531-9999</td>\n",
       "    </tr>\n",
       "    <tr>\n",
       "      <th>1</th>\n",
       "      <td>1</td>\n",
       "      <td>2016-04-19 11:53:00</td>\n",
       "      <td>to AUBURN/AL</td>\n",
       "      <td>7</td>\n",
       "      <td>(334) 728-0615</td>\n",
       "    </tr>\n",
       "    <tr>\n",
       "      <th>2</th>\n",
       "      <td>2</td>\n",
       "      <td>2016-04-19 15:32:00</td>\n",
       "      <td>to AUBURN/AL</td>\n",
       "      <td>14</td>\n",
       "      <td>(334) 728-0615</td>\n",
       "    </tr>\n",
       "    <tr>\n",
       "      <th>3</th>\n",
       "      <td>3</td>\n",
       "      <td>2016-04-20 06:30:00</td>\n",
       "      <td>Incoming</td>\n",
       "      <td>7</td>\n",
       "      <td>(334) 728-0615</td>\n",
       "    </tr>\n",
       "    <tr>\n",
       "      <th>4</th>\n",
       "      <td>4</td>\n",
       "      <td>2016-04-20 06:48:00</td>\n",
       "      <td>to OPELIKA/AL</td>\n",
       "      <td>7</td>\n",
       "      <td>(334) 559-0212</td>\n",
       "    </tr>\n",
       "  </tbody>\n",
       "</table>\n",
       "</div>"
      ],
      "text/plain": [
       "   index       Date and time       Description  Min          Number\n",
       "0      0 2016-04-19 10:01:00  to GRAND PRAR/TX    1  (469) 531-9999\n",
       "1      1 2016-04-19 11:53:00      to AUBURN/AL    7  (334) 728-0615\n",
       "2      2 2016-04-19 15:32:00      to AUBURN/AL   14  (334) 728-0615\n",
       "3      3 2016-04-20 06:30:00          Incoming    7  (334) 728-0615\n",
       "4      4 2016-04-20 06:48:00     to OPELIKA/AL    7  (334) 559-0212"
      ]
     },
     "execution_count": 135,
     "metadata": {},
     "output_type": "execute_result"
    }
   ],
   "source": [
    "final_talk.head()"
   ]
  },
  {
   "cell_type": "code",
   "execution_count": 136,
   "metadata": {
    "scrolled": true
   },
   "outputs": [
    {
     "data": {
      "text/html": [
       "<div>\n",
       "<style>\n",
       "    .dataframe thead tr:only-child th {\n",
       "        text-align: right;\n",
       "    }\n",
       "\n",
       "    .dataframe thead th {\n",
       "        text-align: left;\n",
       "    }\n",
       "\n",
       "    .dataframe tbody tr th {\n",
       "        vertical-align: top;\n",
       "    }\n",
       "</style>\n",
       "<table border=\"1\" class=\"dataframe\">\n",
       "  <thead>\n",
       "    <tr style=\"text-align: right;\">\n",
       "      <th></th>\n",
       "      <th>index</th>\n",
       "      <th>Date and time</th>\n",
       "      <th>Destination</th>\n",
       "      <th>Direction</th>\n",
       "      <th>Number</th>\n",
       "      <th>Type</th>\n",
       "    </tr>\n",
       "  </thead>\n",
       "  <tbody>\n",
       "    <tr>\n",
       "      <th>0</th>\n",
       "      <td>0</td>\n",
       "      <td>2016-04-19 12:14:00</td>\n",
       "      <td>Auburn, AL</td>\n",
       "      <td>Incoming</td>\n",
       "      <td>(334) 703-1602</td>\n",
       "      <td>Text</td>\n",
       "    </tr>\n",
       "    <tr>\n",
       "      <th>1</th>\n",
       "      <td>1</td>\n",
       "      <td>2016-04-19 12:14:00</td>\n",
       "      <td>Auburn, AL</td>\n",
       "      <td>Incoming</td>\n",
       "      <td>(334) 703-1602</td>\n",
       "      <td>Text</td>\n",
       "    </tr>\n",
       "    <tr>\n",
       "      <th>2</th>\n",
       "      <td>2</td>\n",
       "      <td>2016-04-19 12:59:00</td>\n",
       "      <td>Auburn, AL</td>\n",
       "      <td>Outgoing</td>\n",
       "      <td>(334) 703-1602</td>\n",
       "      <td>Text</td>\n",
       "    </tr>\n",
       "    <tr>\n",
       "      <th>3</th>\n",
       "      <td>3</td>\n",
       "      <td>2016-04-19 13:02:00</td>\n",
       "      <td>Auburn, AL</td>\n",
       "      <td>Incoming</td>\n",
       "      <td>(334) 703-1602</td>\n",
       "      <td>Text</td>\n",
       "    </tr>\n",
       "    <tr>\n",
       "      <th>4</th>\n",
       "      <td>4</td>\n",
       "      <td>2016-04-19 13:22:00</td>\n",
       "      <td>Auburn, AL</td>\n",
       "      <td>Incoming</td>\n",
       "      <td>(334) 703-1602</td>\n",
       "      <td>Text</td>\n",
       "    </tr>\n",
       "  </tbody>\n",
       "</table>\n",
       "</div>"
      ],
      "text/plain": [
       "   index       Date and time Destination Direction          Number  Type\n",
       "0      0 2016-04-19 12:14:00  Auburn, AL  Incoming  (334) 703-1602  Text\n",
       "1      1 2016-04-19 12:14:00  Auburn, AL  Incoming  (334) 703-1602  Text\n",
       "2      2 2016-04-19 12:59:00  Auburn, AL  Outgoing  (334) 703-1602  Text\n",
       "3      3 2016-04-19 13:02:00  Auburn, AL  Incoming  (334) 703-1602  Text\n",
       "4      4 2016-04-19 13:22:00  Auburn, AL  Incoming  (334) 703-1602  Text"
      ]
     },
     "execution_count": 136,
     "metadata": {},
     "output_type": "execute_result"
    }
   ],
   "source": [
    "final_text.head()"
   ]
  },
  {
   "cell_type": "code",
   "execution_count": 137,
   "metadata": {
    "collapsed": true,
    "scrolled": true
   },
   "outputs": [],
   "source": [
    "with open('Contacts.vcf') as f:\n",
    "    splitLine = f.read().split('END:VCARD')"
   ]
  },
  {
   "cell_type": "code",
   "execution_count": 138,
   "metadata": {
    "collapsed": true
   },
   "outputs": [],
   "source": [
    "def split_it(split):\n",
    "    for line in splitLine:\n",
    "        split = line.split()\n",
    "        for word in split:\n",
    "            finished = ''\n",
    "            if ';;;' in word:\n",
    "                name = word.strip(';N:')\n",
    "            if 'CELL' in word:\n",
    "                stripped_word = word.split(':')[-1]\n",
    "                groomed_num = stripped_word.strip('#+')\n",
    "                if len(groomed_num) == 11:\n",
    "                    finished = '(' + groomed_num[1:4] + ') ' + groomed_num[4:7] + '-' + groomed_num[7:]\n",
    "                elif len(groomed_num) == 10:\n",
    "                    finished = '(' + groomed_num[0:3] + ') ' + groomed_num[3:6] + '-' + groomed_num[6:]\n",
    "                else:\n",
    "                    continue\n",
    "                yield (finished, name)"
   ]
  },
  {
   "cell_type": "code",
   "execution_count": 139,
   "metadata": {
    "collapsed": true
   },
   "outputs": [],
   "source": [
    "gen = split_it(splitLine)\n",
    "contacts_basic = {tup[0]: tup[1] for tup in gen}"
   ]
  },
  {
   "cell_type": "code",
   "execution_count": 140,
   "metadata": {
    "collapsed": true
   },
   "outputs": [],
   "source": [
    "for key, value in contacts_basic.items():\n",
    "    if ';' in value:\n",
    "        contact = value.split(';')\n",
    "        contacts_basic[key] = contact[1] + ' ' + contact[0]\n",
    "        \n",
    "del contacts_basic['(573) 864-5068']\n",
    "del contacts_basic['(901) 874-4845']\n",
    "del contacts_basic['(832) 671-6190']\n",
    "del contacts_basic['(334) 524-3608']"
   ]
  },
  {
   "cell_type": "code",
   "execution_count": 141,
   "metadata": {
    "scrolled": false
   },
   "outputs": [
    {
     "name": "stderr",
     "output_type": "stream",
     "text": [
      "SettingWithCopyWarning: \n",
      "A value is trying to be set on a copy of a slice from a DataFrame.\n",
      "Try using .loc[row_indexer,col_indexer] = value instead\n",
      "\n",
      "See the caveats in the documentation: http://pandas.pydata.org/pandas-docs/stable/indexing.html#indexing-view-versus-copy [generic.py:3855]\n"
     ]
    }
   ],
   "source": [
    "final_talk.replace({'Number': contacts_basic}, inplace=True)\n",
    "final_text.replace({'Number': contacts_basic}, inplace=True)"
   ]
  },
  {
   "cell_type": "markdown",
   "metadata": {},
   "source": [
    "#### Graph Details\n",
    "\n",
    "- Nodes = 'Number': Talk, Text\n",
    "- Relationships = 'Call' and 'Text' ('Direction' denotes direction in the graph)\n",
    "- Properties = \n",
    "    - We'll add a 'Count' property to both relationships to capture the frequency of a relationship between nodes\n",
    "    - We'll add a list of call durations for 'Call' relationship between nodes\n",
    "    - For the more common call recipients, give them proper names rather than numbers and add the appropriate relationship between them (Melissa -> girlfriend -> Kurt)\n",
    "\n"
   ]
  },
  {
   "cell_type": "code",
   "execution_count": 142,
   "metadata": {
    "collapsed": true
   },
   "outputs": [],
   "source": [
    "def unique_and_concat(talk, text):\n",
    "    concated = np.concatenate([talk, text])\n",
    "    concated = np.unique(concated)\n",
    "    return concated      "
   ]
  },
  {
   "cell_type": "code",
   "execution_count": 143,
   "metadata": {
    "collapsed": true
   },
   "outputs": [],
   "source": [
    "talk_array = final_talk['Number'].values\n",
    "text_array = final_text['Number'].values\n",
    "\n",
    "unique_numbers = unique_and_concat(talk_array, text_array)"
   ]
  },
  {
   "cell_type": "code",
   "execution_count": 144,
   "metadata": {
    "collapsed": true
   },
   "outputs": [],
   "source": [
    "from src.labeled_property_graph import LabeledPropertyGraph\n",
    "from collections import namedtuple\n",
    "\n",
    "def add_nodes(array, lpg):\n",
    "    \"\"\"\n",
    "    Adds a numpy array containing objects intended to be nodes in the graph.\n",
    "    \"\"\"\n",
    "    try:\n",
    "        lpg.add_node('Kurt')\n",
    "    except KeyError:\n",
    "        pass\n",
    "    for something in array:\n",
    "        lpg.add_node(something)\n",
    "    \n",
    "    # Need to add functionality to add labels to each node.\n",
    "\n",
    "\n",
    "def text_direction_generator(array):\n",
    "    \"\"\"\n",
    "    Makes a generator that yields namedtuples for adding nodes to the graph.\n",
    "    \"\"\"\n",
    "    Texts = namedtuple('Texts', ('number', 'direction'))\n",
    "    for node, direction in array:\n",
    "        yield Texts(node, direction)\n",
    "\n",
    "\n",
    "def talk_direction_generator(array):\n",
    "    \"\"\"\n",
    "    Makes a generator that yields namedtuples for adding nodes to the lpg.\n",
    "    \"\"\"\n",
    "    Talk = namedtuple('Talk', ('number', 'direction', 'duration'))\n",
    "    for node, direction, duration in array:\n",
    "        yield Talk(node, direction, duration)\n",
    "        \n",
    "\n",
    "def add_text_relationships(text_gen, lpg):\n",
    "    \"\"\"\n",
    "    Checks if a text relationship exists between Kurt and the number,\n",
    "    if it does, increments the count property on the relationship. \n",
    "    If it doesn't, adds the relationship in the given direction and\n",
    "    creates the count property on the relationship.\n",
    "    \n",
    "    The way I'm having to do this suggests refactoring the lpg class.\n",
    "    \"\"\"\n",
    "    for relationship in text_gen:\n",
    "        if relationship.direction == 'Incoming':\n",
    "            arguments = ['Text', relationship.number, 'Kurt']\n",
    "        else:\n",
    "            arguments = ['Text', 'Kurt', relationship.number]\n",
    "        try:\n",
    "            lpg.add_relationship(*arguments)\n",
    "        except ValueError:\n",
    "            try:\n",
    "                count = lpg.get_relationship_properties(*arguments)\n",
    "                count['Count'] += 1\n",
    "            except KeyError:\n",
    "                lpg.add_rel_props(*arguments, Count=1)\n",
    "\n",
    "def add_talk_relationships(talk_gen, lpg):\n",
    "    \"\"\"\n",
    "    Adds a 'Talk' relationship between nodes.\n",
    "    If the relationships already exists, increments the count property on the relationship.\n",
    "    If the count property doesn't exist, creates it.\n",
    "    Adds the duration property to each relationship, or adds the duration to the list\n",
    "    on each property.\n",
    "    \"\"\"\n",
    "    for relationship in talk_gen:\n",
    "        if relationship.direction == 'Incoming':\n",
    "            arguments = ['Talk', relationship.number, 'Kurt']\n",
    "        else:\n",
    "            arguments = ['Talk', 'Kurt', relationship.number]\n",
    "        try:\n",
    "            lpg.add_relationship(*arguments)\n",
    "        except ValueError:\n",
    "            try:\n",
    "                count = lpg.get_relationship_properties(*arguments)\n",
    "                count['Count'] += 1\n",
    "                count['Duration'].append(relationship.duration)\n",
    "            except KeyError:\n",
    "                lpg.add_rel_props(*arguments, Count=1, Duration=[relationship.duration])"
   ]
  },
  {
   "cell_type": "code",
   "execution_count": 145,
   "metadata": {
    "collapsed": true
   },
   "outputs": [],
   "source": [
    "phone_lpg = LabeledPropertyGraph()"
   ]
  },
  {
   "cell_type": "code",
   "execution_count": 146,
   "metadata": {
    "collapsed": true
   },
   "outputs": [],
   "source": [
    "add_nodes(unique_numbers, phone_lpg)"
   ]
  },
  {
   "cell_type": "code",
   "execution_count": 147,
   "metadata": {
    "collapsed": true
   },
   "outputs": [],
   "source": [
    "text_array_two = final_text[['Number', 'Direction']].values\n",
    "talk_array_two = final_talk[['Number', 'Description', 'Min']].values"
   ]
  },
  {
   "cell_type": "code",
   "execution_count": 148,
   "metadata": {
    "collapsed": true
   },
   "outputs": [],
   "source": [
    "text_gen = text_direction_generator(text_array_two)\n",
    "talk_gen = talk_direction_generator(talk_array_two)"
   ]
  },
  {
   "cell_type": "code",
   "execution_count": 149,
   "metadata": {
    "collapsed": true
   },
   "outputs": [],
   "source": [
    "add_text_relationships(text_gen, phone_lpg)"
   ]
  },
  {
   "cell_type": "code",
   "execution_count": 150,
   "metadata": {
    "collapsed": true
   },
   "outputs": [],
   "source": [
    "add_talk_relationships(talk_gen, phone_lpg)"
   ]
  },
  {
   "cell_type": "markdown",
   "metadata": {},
   "source": [
    "Note: the file was improperly formatted so I was unable to get past an error using two different vcf readers. I finally settled on parsing them manually."
   ]
  },
  {
   "cell_type": "markdown",
   "metadata": {},
   "source": [
    "Things to do:\n",
    "\n",
    "- Generate colors for each node depending on its value (if it's not a name, make it grey)\n",
    "- Generate a size for each node depending on the number of neighbors it has (in this case, my node will be super huge)\n",
    "- Determine how to add multiple and directed links between nodes in D3.js"
   ]
  },
  {
   "cell_type": "code",
   "execution_count": 151,
   "metadata": {
    "collapsed": true
   },
   "outputs": [],
   "source": [
    "def get_nodes_and_rels():\n",
    "    for node in phone_lpg.nodes():\n",
    "        #get_neighbors\n",
    "        #get_relationships\n",
    "        #get_node_properties\n",
    "        #get_relationship_properties\n",
    "        neighbors = phone_lpg.get_neighbors(node)\n",
    "        neighb_rels = []\n",
    "        for neighbor in neighbors:\n",
    "            relationships = phone_lpg.get_relationships(node, neighbor)\n",
    "            neighb_rels.append(relationships)\n",
    "        node_props = phone_lpg.get_node_properties(node)\n",
    "        relationship_props = {}\n",
    "        neighb_tot = {}\n",
    "        neighbor_and_rels = zip(neighbors, neighb_rels)\n",
    "        for neighb, rels in neighbor_and_rels:\n",
    "            neighb_tot[neighb] = {}\n",
    "            for rel in rels:\n",
    "                neighb_tot[neighb][rel] = phone_lpg.get_relationship_properties(rel, node, neighb)\n",
    "        yield node, neighb_tot"
   ]
  },
  {
   "cell_type": "code",
   "execution_count": 152,
   "metadata": {
    "collapsed": true
   },
   "outputs": [],
   "source": [
    "def _node_color(node):\n",
    "    if node.startswith('('):\n",
    "        return 'grey'\n",
    "    elif node == 'Kurt':\n",
    "        return 'blue'\n",
    "    else:\n",
    "        return 'green'\n",
    "\n",
    "def _node_distance(node):\n",
    "    if node.startswith('('):\n",
    "        return 150\n",
    "    else:\n",
    "        return 60\n",
    "\n",
    "def create_json_ready_thing(gen):\n",
    "    genny = gen()\n",
    "    ultimate_dict = {\"nodes\": [], \"links\": {\"Text\": [], \"Talk\": []}}\n",
    "    for node, dicty in genny:\n",
    "        num_neighbs = len(dicty)\n",
    "        num_neighbs = num_neighbs if num_neighbs > 0 else 1\n",
    "        radius = np.log2(num_neighbs) * 2\n",
    "        radius = radius if radius > 2 else 5\n",
    "        color = _node_color(node)\n",
    "        node_dict = {\"id\": node, \"color\": color, \"radius\": radius}\n",
    "        ultimate_dict[\"nodes\"].append(node_dict)\n",
    "        \n",
    "        for key, value in dicty.items():\n",
    "            target = key\n",
    "            attr = _node_distance(key) #  For now\n",
    "            if 'Talk' in value and 'Text' in value:\n",
    "                name_text = 'Text'\n",
    "                name_talk = 'Talk'\n",
    "                text_prop = value['Text']\n",
    "                talk_prop = value['Talk']\n",
    "                text_dict = {\"name\": name_text, \"source\": node, \"target\": target, \"value\": attr, \"properties\": text_prop}\n",
    "                ultimate_dict[\"links\"][\"Text\"].append(text_dict)\n",
    "                talk_dict = {\"name\": name_talk, \"source\": node, \"target\": target, \"value\": attr, \"properties\": talk_prop}\n",
    "                ultimate_dict[\"links\"][\"Talk\"].append(talk_dict)\n",
    "            else:\n",
    "                try:\n",
    "                    text_prop = value['Text']\n",
    "                    name_text = 'Text'\n",
    "                    text_dict = {\"name\": name_text, \"source\": node, \"target\": target, \"value\": attr, \"properties\": text_prop}\n",
    "                    ultimate_dict[\"links\"][\"Text\"].append(text_dict)\n",
    "                except KeyError:\n",
    "                    talk_prop = value['Talk']\n",
    "                    name_talk = 'Talk'\n",
    "                    talk_dict = {\"name\": name_talk, \"source\": node, \"target\": target, \"value\": attr, \"properties\": talk_prop}\n",
    "                    ultimate_dict[\"links\"][\"Talk\"].append(talk_dict)\n",
    "            \n",
    "    return ultimate_dict"
   ]
  },
  {
   "cell_type": "code",
   "execution_count": 153,
   "metadata": {
    "collapsed": true,
    "scrolled": true
   },
   "outputs": [],
   "source": [
    "ready = create_json_ready_thing(get_nodes_and_rels)"
   ]
  },
  {
   "cell_type": "code",
   "execution_count": 154,
   "metadata": {
    "collapsed": true
   },
   "outputs": [],
   "source": [
    "# graph_stuff = {\"nodes\": [\n",
    "#     {\"id\": \"Kurt\", \"color\": \"blue\", \"radius\": 15},\n",
    "#     {\"id\": \"Melissa\", \"color\": \"purple\", \"radius\": 5},\n",
    "#     {\"id\": \"Megan\", \"color\": \"green\", \"radius\": 5},\n",
    "#     {\"id\": \"Suman\", \"color\": \"orange\", \"radius\": 5},\n",
    "#     {\"id\": \"Nina\", \"color\": \"pink\", \"radius\": 5}\n",
    "# ],\n",
    "# \"links\": {\n",
    "#     \"Talk\": [\n",
    "#  {\"Name\": \"Talk, \"source\": \"Kurt\", \"target\": \"Melissa\", \"value\": \"black\", \"properties\": [{\"Count\": 123415, \"Duration\": [15, 32]]},\n",
    "#  {\"Name\": \"Talk, \"source\": \"Melissa\", \"target\": \"Megan\", \"value\": \"black\"},\n",
    "#  {\"Name\": \"Talk, \"source\": \"Megan\", \"target\": \"Suman\", \"value\": \"black\"},\n",
    "#  {\"Name\": \"Talk, \"source\": \"Melissa\", \"target\": \"Suman\", \"value\": \"black\"},\n",
    "#  {\"Name\": \"Talk, \"source\": \"Melissa\", \"target\": \"Nina\", \"value\": \"black\"}\n",
    "# ],\n",
    "#    \"Text\": [\n",
    "#  {\"source\": \"Kurt\", \"target\": \"Melissa\", \"value\": \"black\", \"properties\": {\"Count\": 15321}},\n",
    "#  {\"source\": \"Melissa\", \"target\": \"Megan\", \"value\": \"black\"},\n",
    "#  {\"source\": \"Megan\", \"target\": \"Suman\", \"value\": \"black\"},\n",
    "#  {\"source\": \"Melissa\", \"target\": \"Suman\", \"value\": \"black\"},\n",
    "#  {\"source\": \"Melissa\", \"target\": \"Nina\", \"value\": \"black\"}\n",
    "# ]}"
   ]
  },
  {
   "cell_type": "code",
   "execution_count": 155,
   "metadata": {},
   "outputs": [],
   "source": [
    "import json\n",
    "with open('../js/mega_phone_graph.json', 'w') as f:\n",
    "    json.dump(ready, f)"
   ]
  },
  {
   "cell_type": "code",
   "execution_count": null,
   "metadata": {
    "collapsed": true
   },
   "outputs": [],
   "source": []
  }
 ],
 "metadata": {
  "kernelspec": {
   "display_name": "Python 3",
   "language": "python",
   "name": "python3"
  },
  "language_info": {
   "codemirror_mode": {
    "name": "ipython",
    "version": 3
   },
   "file_extension": ".py",
   "mimetype": "text/x-python",
   "name": "python",
   "nbconvert_exporter": "python",
   "pygments_lexer": "ipython3",
   "version": "3.6.3"
  }
 },
 "nbformat": 4,
 "nbformat_minor": 2
}
