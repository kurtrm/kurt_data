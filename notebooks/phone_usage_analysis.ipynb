{
 "cells": [
  {
   "cell_type": "markdown",
   "metadata": {},
   "source": [
    "## Communication Graph\n",
    "\n",
    "This notebook is dedicated to exploration and pattern finding in my cell phone bills which are in PDF formats. The ultimate goal is to make a graph out of it.\n",
    "\n",
    "After developing a pattern, I'll make a function or a class to do everything for me.\n",
    "\n",
    "#### Exploration and Pattern Finding\n",
    "\n",
    "The first section is just exploration."
   ]
  },
  {
   "cell_type": "code",
   "execution_count": 1,
   "metadata": {
    "collapsed": true,
    "scrolled": true
   },
   "outputs": [],
   "source": [
    "# Set up.\n",
    "%matplotlib inline\n",
    "\n",
    "import matplotlib as plt\n",
    "import numpy as np\n",
    "import os\n",
    "import pandas as pd\n",
    "import PyPDF2\n",
    "import re\n",
    "import seaborn\n",
    "import sys\n",
    "import networkx\n",
    "\n",
    "from IPython.core.interactiveshell import InteractiveShell\n",
    "InteractiveShell.ast_node_interactivity = 'all'\n",
    "\n",
    "from src.tmobile_bill_parser import (parse_bill, parse_multiple_bills)"
   ]
  },
  {
   "cell_type": "code",
   "execution_count": 2,
   "metadata": {},
   "outputs": [
    {
     "data": {
      "text/plain": [
       "True"
      ]
     },
     "execution_count": 2,
     "metadata": {},
     "output_type": "execute_result"
    }
   ],
   "source": [
    "os.path.isdir('../bills')"
   ]
  },
  {
   "cell_type": "code",
   "execution_count": 3,
   "metadata": {
    "collapsed": true
   },
   "outputs": [],
   "source": [
    "bill_directory = parse_multiple_bills('../bills')"
   ]
  },
  {
   "cell_type": "markdown",
   "metadata": {},
   "source": [
    "### Introduction\n",
    "\n",
    "- [x] Make all data the proper datatype.\n",
    "- [n/a] Separate destination into city and state.\n",
    "- [x] Numbers must be in roughly the same format.\n",
    "- [x] Treat Text, Data, and Talk as separate tables or graphs."
   ]
  },
  {
   "cell_type": "code",
   "execution_count": 4,
   "metadata": {
    "collapsed": true,
    "scrolled": true
   },
   "outputs": [],
   "source": [
    "text_dfs = [pd.DataFrame(bill_directory[bill_period]['Text']) for bill_period in bill_directory]\n",
    "data_dfs = [pd.DataFrame(bill_directory[bill_period]['Data']) for bill_period in bill_directory]\n",
    "talk_dfs = [pd.DataFrame(bill_directory[bill_period]['Talk']) for bill_period in bill_directory]\n",
    "\n",
    "text_df = pd.concat(text_dfs).reset_index()\n",
    "data_df = pd.concat(data_dfs).reset_index()\n",
    "talk_df = pd.concat(talk_dfs).reset_index()"
   ]
  },
  {
   "cell_type": "code",
   "execution_count": 5,
   "metadata": {},
   "outputs": [
    {
     "data": {
      "text/plain": [
       "-    14526\n",
       "Name: Amount, dtype: int64"
      ]
     },
     "execution_count": 5,
     "metadata": {},
     "output_type": "execute_result"
    }
   ],
   "source": [
    "text_df['Amount'].value_counts()\n",
    "text = text_df.drop(['Amount'], axis=1)"
   ]
  },
  {
   "cell_type": "code",
   "execution_count": 6,
   "metadata": {
    "scrolled": true
   },
   "outputs": [
    {
     "name": "stdout",
     "output_type": "stream",
     "text": [
      "<class 'pandas.core.frame.DataFrame'>\n",
      "RangeIndex: 4632 entries, 0 to 4631\n",
      "Data columns (total 7 columns):\n",
      "index            4632 non-null int64\n",
      "Amount           4632 non-null object\n",
      "Date and time    4632 non-null object\n",
      "MB               4632 non-null object\n",
      "Origin           4632 non-null object\n",
      "Service          4632 non-null object\n",
      "Type             4632 non-null object\n",
      "dtypes: int64(1), object(6)\n",
      "memory usage: 253.4+ KB\n"
     ]
    },
    {
     "data": {
      "text/html": [
       "<div>\n",
       "<style>\n",
       "    .dataframe thead tr:only-child th {\n",
       "        text-align: right;\n",
       "    }\n",
       "\n",
       "    .dataframe thead th {\n",
       "        text-align: left;\n",
       "    }\n",
       "\n",
       "    .dataframe tbody tr th {\n",
       "        vertical-align: top;\n",
       "    }\n",
       "</style>\n",
       "<table border=\"1\" class=\"dataframe\">\n",
       "  <thead>\n",
       "    <tr style=\"text-align: right;\">\n",
       "      <th></th>\n",
       "      <th>index</th>\n",
       "      <th>Amount</th>\n",
       "      <th>Date and time</th>\n",
       "      <th>MB</th>\n",
       "      <th>Origin</th>\n",
       "      <th>Service</th>\n",
       "      <th>Type</th>\n",
       "    </tr>\n",
       "  </thead>\n",
       "  <tbody>\n",
       "    <tr>\n",
       "      <th>0</th>\n",
       "      <td>0</td>\n",
       "      <td>-</td>\n",
       "      <td>04/19/16, 12:15 AM</td>\n",
       "      <td>0.0097</td>\n",
       "      <td>-</td>\n",
       "      <td>Mobile Internet</td>\n",
       "      <td>-</td>\n",
       "    </tr>\n",
       "    <tr>\n",
       "      <th>1</th>\n",
       "      <td>1</td>\n",
       "      <td>-</td>\n",
       "      <td>04/19/16, 5:15 AM</td>\n",
       "      <td>0.0087</td>\n",
       "      <td>-</td>\n",
       "      <td>Mobile Internet</td>\n",
       "      <td>-</td>\n",
       "    </tr>\n",
       "    <tr>\n",
       "      <th>2</th>\n",
       "      <td>2</td>\n",
       "      <td>-</td>\n",
       "      <td>04/19/16, 6:20 AM</td>\n",
       "      <td>0.0644</td>\n",
       "      <td>-</td>\n",
       "      <td>Mobile Internet</td>\n",
       "      <td>-</td>\n",
       "    </tr>\n",
       "    <tr>\n",
       "      <th>3</th>\n",
       "      <td>3</td>\n",
       "      <td>-</td>\n",
       "      <td>04/19/16, 6:22 AM</td>\n",
       "      <td>0.1093</td>\n",
       "      <td>-</td>\n",
       "      <td>Mobile Internet</td>\n",
       "      <td>-</td>\n",
       "    </tr>\n",
       "    <tr>\n",
       "      <th>4</th>\n",
       "      <td>4</td>\n",
       "      <td>-</td>\n",
       "      <td>04/19/16, 6:26 AM</td>\n",
       "      <td>0.2158</td>\n",
       "      <td>-</td>\n",
       "      <td>Mobile Internet</td>\n",
       "      <td>-</td>\n",
       "    </tr>\n",
       "  </tbody>\n",
       "</table>\n",
       "</div>"
      ],
      "text/plain": [
       "   index Amount       Date and time      MB Origin          Service Type\n",
       "0      0      -  04/19/16, 12:15 AM  0.0097      -  Mobile Internet    -\n",
       "1      1      -   04/19/16, 5:15 AM  0.0087      -  Mobile Internet    -\n",
       "2      2      -   04/19/16, 6:20 AM  0.0644      -  Mobile Internet    -\n",
       "3      3      -   04/19/16, 6:22 AM  0.1093      -  Mobile Internet    -\n",
       "4      4      -   04/19/16, 6:26 AM  0.2158      -  Mobile Internet    -"
      ]
     },
     "execution_count": 6,
     "metadata": {},
     "output_type": "execute_result"
    }
   ],
   "source": [
    "data_df.info()\n",
    "data_df.head()\n",
    "data = data_df.drop(['Amount', 'Origin', 'Type', 'Service'], axis=1)"
   ]
  },
  {
   "cell_type": "code",
   "execution_count": 7,
   "metadata": {},
   "outputs": [
    {
     "data": {
      "text/plain": [
       "-    1774\n",
       "Name: Amount, dtype: int64"
      ]
     },
     "execution_count": 7,
     "metadata": {},
     "output_type": "execute_result"
    }
   ],
   "source": [
    "talk_df['Amount'].value_counts()\n",
    "talk = talk_df.drop(['Amount', 'Type'], axis=1)"
   ]
  },
  {
   "cell_type": "code",
   "execution_count": 8,
   "metadata": {},
   "outputs": [
    {
     "data": {
      "text/html": [
       "<div>\n",
       "<style>\n",
       "    .dataframe thead tr:only-child th {\n",
       "        text-align: right;\n",
       "    }\n",
       "\n",
       "    .dataframe thead th {\n",
       "        text-align: left;\n",
       "    }\n",
       "\n",
       "    .dataframe tbody tr th {\n",
       "        vertical-align: top;\n",
       "    }\n",
       "</style>\n",
       "<table border=\"1\" class=\"dataframe\">\n",
       "  <thead>\n",
       "    <tr style=\"text-align: right;\">\n",
       "      <th></th>\n",
       "      <th>index</th>\n",
       "      <th>Date and time</th>\n",
       "      <th>Description</th>\n",
       "      <th>Min</th>\n",
       "      <th>Number</th>\n",
       "    </tr>\n",
       "  </thead>\n",
       "  <tbody>\n",
       "    <tr>\n",
       "      <th>0</th>\n",
       "      <td>0</td>\n",
       "      <td>04/19/16, 10:01 AM</td>\n",
       "      <td>to GRAND PRAR/TX</td>\n",
       "      <td>1</td>\n",
       "      <td>(469) 531-9999</td>\n",
       "    </tr>\n",
       "    <tr>\n",
       "      <th>1</th>\n",
       "      <td>1</td>\n",
       "      <td>04/19/16, 11:53 AM</td>\n",
       "      <td>to AUBURN/AL</td>\n",
       "      <td>7</td>\n",
       "      <td>(334) 728-0615</td>\n",
       "    </tr>\n",
       "    <tr>\n",
       "      <th>2</th>\n",
       "      <td>2</td>\n",
       "      <td>04/19/16, 3:32 PM</td>\n",
       "      <td>to AUBURN/AL</td>\n",
       "      <td>14</td>\n",
       "      <td>(334) 728-0615</td>\n",
       "    </tr>\n",
       "    <tr>\n",
       "      <th>3</th>\n",
       "      <td>3</td>\n",
       "      <td>04/20/16, 6:30 AM</td>\n",
       "      <td>Incoming</td>\n",
       "      <td>7</td>\n",
       "      <td>(334) 728-0615</td>\n",
       "    </tr>\n",
       "    <tr>\n",
       "      <th>4</th>\n",
       "      <td>4</td>\n",
       "      <td>04/20/16, 6:48 AM</td>\n",
       "      <td>to OPELIKA/AL</td>\n",
       "      <td>7</td>\n",
       "      <td>(334) 559-0212</td>\n",
       "    </tr>\n",
       "  </tbody>\n",
       "</table>\n",
       "</div>"
      ],
      "text/plain": [
       "   index       Date and time       Description Min          Number\n",
       "0      0  04/19/16, 10:01 AM  to GRAND PRAR/TX   1  (469) 531-9999\n",
       "1      1  04/19/16, 11:53 AM      to AUBURN/AL   7  (334) 728-0615\n",
       "2      2   04/19/16, 3:32 PM      to AUBURN/AL  14  (334) 728-0615\n",
       "3      3   04/20/16, 6:30 AM          Incoming   7  (334) 728-0615\n",
       "4      4   04/20/16, 6:48 AM     to OPELIKA/AL   7  (334) 559-0212"
      ]
     },
     "execution_count": 8,
     "metadata": {},
     "output_type": "execute_result"
    },
    {
     "data": {
      "text/html": [
       "<div>\n",
       "<style>\n",
       "    .dataframe thead tr:only-child th {\n",
       "        text-align: right;\n",
       "    }\n",
       "\n",
       "    .dataframe thead th {\n",
       "        text-align: left;\n",
       "    }\n",
       "\n",
       "    .dataframe tbody tr th {\n",
       "        vertical-align: top;\n",
       "    }\n",
       "</style>\n",
       "<table border=\"1\" class=\"dataframe\">\n",
       "  <thead>\n",
       "    <tr style=\"text-align: right;\">\n",
       "      <th></th>\n",
       "      <th>index</th>\n",
       "      <th>Date and time</th>\n",
       "      <th>Destination</th>\n",
       "      <th>Direction</th>\n",
       "      <th>Number</th>\n",
       "      <th>Type</th>\n",
       "    </tr>\n",
       "  </thead>\n",
       "  <tbody>\n",
       "    <tr>\n",
       "      <th>0</th>\n",
       "      <td>0</td>\n",
       "      <td>04/19/16, 12:14 PM</td>\n",
       "      <td>Auburn, AL</td>\n",
       "      <td>Incoming</td>\n",
       "      <td>(334) 703-1602</td>\n",
       "      <td>Text</td>\n",
       "    </tr>\n",
       "    <tr>\n",
       "      <th>1</th>\n",
       "      <td>1</td>\n",
       "      <td>04/19/16, 12:14 PM</td>\n",
       "      <td>Auburn, AL</td>\n",
       "      <td>Incoming</td>\n",
       "      <td>(334) 703-1602</td>\n",
       "      <td>Text</td>\n",
       "    </tr>\n",
       "    <tr>\n",
       "      <th>2</th>\n",
       "      <td>2</td>\n",
       "      <td>04/19/16, 12:59 PM</td>\n",
       "      <td>Auburn, AL</td>\n",
       "      <td>Outgoing</td>\n",
       "      <td>(334) 703-1602</td>\n",
       "      <td>Text</td>\n",
       "    </tr>\n",
       "    <tr>\n",
       "      <th>3</th>\n",
       "      <td>3</td>\n",
       "      <td>04/19/16, 1:02 PM</td>\n",
       "      <td>Auburn, AL</td>\n",
       "      <td>Incoming</td>\n",
       "      <td>(334) 703-1602</td>\n",
       "      <td>Text</td>\n",
       "    </tr>\n",
       "    <tr>\n",
       "      <th>4</th>\n",
       "      <td>4</td>\n",
       "      <td>04/19/16, 1:22 PM</td>\n",
       "      <td>Auburn, AL</td>\n",
       "      <td>Incoming</td>\n",
       "      <td>(334) 703-1602</td>\n",
       "      <td>Text</td>\n",
       "    </tr>\n",
       "  </tbody>\n",
       "</table>\n",
       "</div>"
      ],
      "text/plain": [
       "   index       Date and time Destination Direction          Number  Type\n",
       "0      0  04/19/16, 12:14 PM  Auburn, AL  Incoming  (334) 703-1602  Text\n",
       "1      1  04/19/16, 12:14 PM  Auburn, AL  Incoming  (334) 703-1602  Text\n",
       "2      2  04/19/16, 12:59 PM  Auburn, AL  Outgoing  (334) 703-1602  Text\n",
       "3      3   04/19/16, 1:02 PM  Auburn, AL  Incoming  (334) 703-1602  Text\n",
       "4      4   04/19/16, 1:22 PM  Auburn, AL  Incoming  (334) 703-1602  Text"
      ]
     },
     "execution_count": 8,
     "metadata": {},
     "output_type": "execute_result"
    },
    {
     "data": {
      "text/html": [
       "<div>\n",
       "<style>\n",
       "    .dataframe thead tr:only-child th {\n",
       "        text-align: right;\n",
       "    }\n",
       "\n",
       "    .dataframe thead th {\n",
       "        text-align: left;\n",
       "    }\n",
       "\n",
       "    .dataframe tbody tr th {\n",
       "        vertical-align: top;\n",
       "    }\n",
       "</style>\n",
       "<table border=\"1\" class=\"dataframe\">\n",
       "  <thead>\n",
       "    <tr style=\"text-align: right;\">\n",
       "      <th></th>\n",
       "      <th>index</th>\n",
       "      <th>Date and time</th>\n",
       "      <th>MB</th>\n",
       "    </tr>\n",
       "  </thead>\n",
       "  <tbody>\n",
       "    <tr>\n",
       "      <th>0</th>\n",
       "      <td>0</td>\n",
       "      <td>04/19/16, 12:15 AM</td>\n",
       "      <td>0.0097</td>\n",
       "    </tr>\n",
       "    <tr>\n",
       "      <th>1</th>\n",
       "      <td>1</td>\n",
       "      <td>04/19/16, 5:15 AM</td>\n",
       "      <td>0.0087</td>\n",
       "    </tr>\n",
       "    <tr>\n",
       "      <th>2</th>\n",
       "      <td>2</td>\n",
       "      <td>04/19/16, 6:20 AM</td>\n",
       "      <td>0.0644</td>\n",
       "    </tr>\n",
       "    <tr>\n",
       "      <th>3</th>\n",
       "      <td>3</td>\n",
       "      <td>04/19/16, 6:22 AM</td>\n",
       "      <td>0.1093</td>\n",
       "    </tr>\n",
       "    <tr>\n",
       "      <th>4</th>\n",
       "      <td>4</td>\n",
       "      <td>04/19/16, 6:26 AM</td>\n",
       "      <td>0.2158</td>\n",
       "    </tr>\n",
       "  </tbody>\n",
       "</table>\n",
       "</div>"
      ],
      "text/plain": [
       "   index       Date and time      MB\n",
       "0      0  04/19/16, 12:15 AM  0.0097\n",
       "1      1   04/19/16, 5:15 AM  0.0087\n",
       "2      2   04/19/16, 6:20 AM  0.0644\n",
       "3      3   04/19/16, 6:22 AM  0.1093\n",
       "4      4   04/19/16, 6:26 AM  0.2158"
      ]
     },
     "execution_count": 8,
     "metadata": {},
     "output_type": "execute_result"
    }
   ],
   "source": [
    "talk.head()\n",
    "text.head()\n",
    "data.head()"
   ]
  },
  {
   "cell_type": "code",
   "execution_count": 9,
   "metadata": {
    "collapsed": true
   },
   "outputs": [],
   "source": [
    "data['Date and time'] = pd.to_datetime(data['Date and time'])\n",
    "text['Date and time'] = pd.to_datetime(text['Date and time'])\n",
    "talk['Date and time'] = pd.to_datetime(talk['Date and time'])\n",
    "data['MB'] = pd.to_numeric(data['MB'])\n",
    "talk['Min'] = pd.to_numeric(talk['Min'])"
   ]
  },
  {
   "cell_type": "markdown",
   "metadata": {},
   "source": [
    "I think the Data column is good for a seeing usage over a period of time, maybe seeing if there's a pattern in the my activity over the course of a day, or days of the week I'm more active. Otherwise, I may cache that for later.\n",
    "\n",
    "I think there's a number of graphs to be made form the Text and Talk sets.\n",
    "\n",
    "#### Text \n",
    "\n",
    "- A graph between me and identifiable phone numbers, outgoing.\n",
    "- A graph between me and identifiable phone numbers, incoming.\n",
    "- A graph between me (Seattle) and destinations, though this may not be accurate since the destination seems to be based on the area code of the phone number.\n",
    "- Activity over a day, week, or month.\n",
    "\n",
    "#### Talk\n",
    "- A weighted graph showing calls between phone numbers (people) and time talking.\n",
    "- A graph between me and identifiable phone numbers, outgoing.\n",
    "- A graph between me and identifiable phone numbers, incoming."
   ]
  },
  {
   "cell_type": "code",
   "execution_count": 10,
   "metadata": {
    "scrolled": true
   },
   "outputs": [
    {
     "data": {
      "text/plain": [
       "Index(['index', 'Date and time', 'MB'], dtype='object')"
      ]
     },
     "execution_count": 10,
     "metadata": {},
     "output_type": "execute_result"
    },
    {
     "name": "stdout",
     "output_type": "stream",
     "text": [
      "0\n",
      "0\n",
      "0\n"
     ]
    }
   ],
   "source": [
    "data.columns\n",
    "for column in data.columns:\n",
    "    try:\n",
    "        data[column].value_counts()['-']\n",
    "    except KeyError:\n",
    "        print(0)"
   ]
  },
  {
   "cell_type": "markdown",
   "metadata": {},
   "source": [
    "- [x] TODO: text['Destination'] contains 629 '-'.  \n",
    "- [x] TODO: phone numbers need to be normalized.  \n",
    "- [x] TODO: destination needs to be normalized."
   ]
  },
  {
   "cell_type": "code",
   "execution_count": 11,
   "metadata": {
    "collapsed": true
   },
   "outputs": [],
   "source": [
    "#  Worth noting that area codes will never begin with 1.\n",
    "phone_number_re = re.compile(r'''1?(-|\\s|\\.)?(\\d{3}|\\(\\d{3}\\))(-|\\s|\\.)?\\d{3}(-|\\s|\\.)?\\d{4}''', re.VERBOSE)\n",
    "phone_str = r'1?(-|\\s|\\.)?(\\d{3}|\\(\\d{3}\\))(-|\\s|\\.)?\\d{3}(-|\\s|\\.)?\\d{4}'\n",
    "destination_re = re.compile(r'(\\w), (\\w)')\n",
    "destination_str = r'([\\w\\s]+), (\\w+)'"
   ]
  },
  {
   "cell_type": "code",
   "execution_count": 12,
   "metadata": {
    "collapsed": true
   },
   "outputs": [],
   "source": [
    "text_num_bool = text['Number'].str.match(phone_str)\n",
    "text_dest_bool = text['Destination'].str.match(destination_str)\n",
    "talk_num_bool = talk['Number'].str.match(phone_str)"
   ]
  },
  {
   "cell_type": "code",
   "execution_count": 13,
   "metadata": {
    "collapsed": true,
    "scrolled": true
   },
   "outputs": [],
   "source": [
    "dest_negatives = text[text_dest_bool == False]['Destination'].value_counts()\n",
    "text_negatives = text[text_num_bool == False]['Number'].value_counts()\n",
    "talk_negatives = talk[talk_num_bool == False]['Number'].value_counts()"
   ]
  },
  {
   "cell_type": "code",
   "execution_count": 14,
   "metadata": {
    "collapsed": true
   },
   "outputs": [],
   "source": [
    "def format_phone(number):\n",
    "    numb = number.string\n",
    "    if numb[0] == '1':\n",
    "        numb = numb[1:]\n",
    "    return '({}) {}-{}'.format(numb[:3], numb[3:6], numb[6:])"
   ]
  },
  {
   "cell_type": "code",
   "execution_count": 15,
   "metadata": {
    "collapsed": true,
    "scrolled": true
   },
   "outputs": [],
   "source": [
    "text_norm_numbers = text[text_num_bool == True]['Number'].str.replace(r'\\d{10,11}', format_phone)\n",
    "talk_norm_numbers = talk[talk_num_bool == True]['Number'].str.replace(r'\\d{10,11}', format_phone)"
   ]
  },
  {
   "cell_type": "code",
   "execution_count": 16,
   "metadata": {
    "collapsed": true,
    "scrolled": false
   },
   "outputs": [],
   "source": [
    "final_text = text[text_num_bool == True]\n",
    "final_text = final_text[final_text['Destination'].str.match(destination_str) == True]\n",
    "final_talk = talk[talk_num_bool == True]"
   ]
  },
  {
   "cell_type": "code",
   "execution_count": 17,
   "metadata": {
    "scrolled": true
   },
   "outputs": [
    {
     "name": "stderr",
     "output_type": "stream",
     "text": [
      "SettingWithCopyWarning: \n",
      "A value is trying to be set on a copy of a slice from a DataFrame.\n",
      "Try using .loc[row_indexer,col_indexer] = value instead\n",
      "\n",
      "See the caveats in the documentation: http://pandas.pydata.org/pandas-docs/stable/indexing.html#indexing-view-versus-copy [ipykernel_launcher.py:2]\n"
     ]
    }
   ],
   "source": [
    "final_text['Number'] = final_text['Number'].str.replace(r'\\d{10,11}', format_phone)\n",
    "final_talk['Number'] = final_talk['Number'].str.replace(r'\\d{10,11}', format_phone)"
   ]
  },
  {
   "cell_type": "markdown",
   "metadata": {},
   "source": [
    "### Initial Analysis\n",
    "\n",
    "#### Data:\n",
    "The data information is not suitable for a graph data structure. I think it would be interesting to visualize it using bar or line graphs to measure activity over time. Some questions that could be answered are:\n",
    "\n",
    "- Which days am I more active?\n",
    "- Which times throughout the day am I more active?\n",
    "- What's different about days that there is more data consumption via T-Mobile's data services vice wifi?\n",
    "- How has my consumption changed over time?\n",
    "\n",
    "It's worth noting that this doesn't measure my total internet activity. It is merely seeing my data consumption through T-Mobile services. This leads to some additional inquiries:\n",
    "\n",
    "- Does my phone track data consumption over time?\n",
    "- Does Comcast track my data consumption at home and is it available to me?\n",
    "\n",
    "#### Talk:\n",
    "The are several angles to take with this data set, and much of it will be similar to __Text__. First, the graph data structure. I'd be interested in seeing total incoming and outgoing calls between me and all other nodes over the entire time period available. It could then be split into just incoming calls and just outgoing calls. I could make a dictionary of all known or easily identifiable phone numbers and make the nodes names of contacts rather than numbers. As far as node/edge weights, there's two things to consider: call frequency and call duration. This distinction is important because duration/frequency represent different measures of significance of a given contact. For example, I may have hundreds of calls to Melissa, but we usually only talk briefly to discuss logistical stuff because we are so heavily involved in each other's lives. However, I have much longer calls to my mother because she lives far away (and loves to talk). This may be a visualization problem. \n",
    "\n",
    "#### Text:\n",
    "All the same problems of talk apply to text with exception of call duration. In addition, we know have an opportunity to graph the nodes by location (The phone number's area code really). So we could make the graph just like __Talk__. Thinking about it further, the destination isn't useful at all. Many contacts will have no affiliation (anymore) with the area code from which they first received their phone number. I think the use in the Destination column would be to have other data available by which we could compare people's actual location to the destination logged by T-Mobile.\n",
    "\n",
    "### Additional things I'd like to do.\n",
    "Looking at __Talk__, I think it would be smart to do the following:\n",
    "\n",
    "For the graph:\n",
    "\n",
    "- We won't care about the date and time.\n",
    "- Divide the table into incoming and outgoing.\n",
    "- Group by number, sum the minutes for each number, and add a 'Frequency' (Count) column to each number.\n",
    "\n",
    "- Make a seperate graph that ignores the 'Description' distinction.\n",
    "\n",
    "Visualization:\n",
    "\n",
    "- I don't think it would be productive to get too granular into the time (for now), so we can further split the data weeks and months. \n",
    "- Choose the top ten most called numbers and make histograms by week and month (total, outgoing, and incoming, each). \n",
    "- Do the same as above except with call duration ('Min').\n",
    "\n",
    "__Text__:\n",
    "\n",
    "- Same for __Talk__, but there will be no 'Min' sum.\n",
    "\n",
    "__Data__:\n",
    "\n",
    "- See above for guidance.\n",
    "\n",
    "### Other thoughts:\n",
    "\n",
    "- I'd like to adapt the weighted graph we made in school for this project. Two issues arise with this: - It inherits from dict, thus I'd rather have it be a composition of a dict so we don't methods available that could screw up the graph. - I need to have a better understanding of graph databases to understand how this would work. \n",
    "\n",
    "- This graph is going to be one node(me) with a ton of leaves(my contacts). To really make this a better product, I should think about obtaining my girlfriend's bill as well as my parents. That will really make this more interesting."
   ]
  },
  {
   "cell_type": "code",
   "execution_count": 18,
   "metadata": {
    "scrolled": true
   },
   "outputs": [
    {
     "data": {
      "text/html": [
       "<div>\n",
       "<style>\n",
       "    .dataframe thead tr:only-child th {\n",
       "        text-align: right;\n",
       "    }\n",
       "\n",
       "    .dataframe thead th {\n",
       "        text-align: left;\n",
       "    }\n",
       "\n",
       "    .dataframe tbody tr th {\n",
       "        vertical-align: top;\n",
       "    }\n",
       "</style>\n",
       "<table border=\"1\" class=\"dataframe\">\n",
       "  <thead>\n",
       "    <tr style=\"text-align: right;\">\n",
       "      <th></th>\n",
       "      <th>index</th>\n",
       "      <th>Date and time</th>\n",
       "      <th>Description</th>\n",
       "      <th>Min</th>\n",
       "      <th>Number</th>\n",
       "    </tr>\n",
       "  </thead>\n",
       "  <tbody>\n",
       "    <tr>\n",
       "      <th>0</th>\n",
       "      <td>0</td>\n",
       "      <td>2016-04-19 10:01:00</td>\n",
       "      <td>to GRAND PRAR/TX</td>\n",
       "      <td>1</td>\n",
       "      <td>(469) 531-9999</td>\n",
       "    </tr>\n",
       "    <tr>\n",
       "      <th>1</th>\n",
       "      <td>1</td>\n",
       "      <td>2016-04-19 11:53:00</td>\n",
       "      <td>to AUBURN/AL</td>\n",
       "      <td>7</td>\n",
       "      <td>(334) 728-0615</td>\n",
       "    </tr>\n",
       "    <tr>\n",
       "      <th>2</th>\n",
       "      <td>2</td>\n",
       "      <td>2016-04-19 15:32:00</td>\n",
       "      <td>to AUBURN/AL</td>\n",
       "      <td>14</td>\n",
       "      <td>(334) 728-0615</td>\n",
       "    </tr>\n",
       "    <tr>\n",
       "      <th>3</th>\n",
       "      <td>3</td>\n",
       "      <td>2016-04-20 06:30:00</td>\n",
       "      <td>Incoming</td>\n",
       "      <td>7</td>\n",
       "      <td>(334) 728-0615</td>\n",
       "    </tr>\n",
       "    <tr>\n",
       "      <th>4</th>\n",
       "      <td>4</td>\n",
       "      <td>2016-04-20 06:48:00</td>\n",
       "      <td>to OPELIKA/AL</td>\n",
       "      <td>7</td>\n",
       "      <td>(334) 559-0212</td>\n",
       "    </tr>\n",
       "  </tbody>\n",
       "</table>\n",
       "</div>"
      ],
      "text/plain": [
       "   index       Date and time       Description  Min          Number\n",
       "0      0 2016-04-19 10:01:00  to GRAND PRAR/TX    1  (469) 531-9999\n",
       "1      1 2016-04-19 11:53:00      to AUBURN/AL    7  (334) 728-0615\n",
       "2      2 2016-04-19 15:32:00      to AUBURN/AL   14  (334) 728-0615\n",
       "3      3 2016-04-20 06:30:00          Incoming    7  (334) 728-0615\n",
       "4      4 2016-04-20 06:48:00     to OPELIKA/AL    7  (334) 559-0212"
      ]
     },
     "execution_count": 18,
     "metadata": {},
     "output_type": "execute_result"
    }
   ],
   "source": [
    "final_talk.head()"
   ]
  },
  {
   "cell_type": "code",
   "execution_count": 19,
   "metadata": {
    "scrolled": true
   },
   "outputs": [
    {
     "data": {
      "text/html": [
       "<div>\n",
       "<style>\n",
       "    .dataframe thead tr:only-child th {\n",
       "        text-align: right;\n",
       "    }\n",
       "\n",
       "    .dataframe thead th {\n",
       "        text-align: left;\n",
       "    }\n",
       "\n",
       "    .dataframe tbody tr th {\n",
       "        vertical-align: top;\n",
       "    }\n",
       "</style>\n",
       "<table border=\"1\" class=\"dataframe\">\n",
       "  <thead>\n",
       "    <tr style=\"text-align: right;\">\n",
       "      <th></th>\n",
       "      <th>index</th>\n",
       "      <th>Date and time</th>\n",
       "      <th>Destination</th>\n",
       "      <th>Direction</th>\n",
       "      <th>Number</th>\n",
       "      <th>Type</th>\n",
       "    </tr>\n",
       "  </thead>\n",
       "  <tbody>\n",
       "    <tr>\n",
       "      <th>0</th>\n",
       "      <td>0</td>\n",
       "      <td>2016-04-19 12:14:00</td>\n",
       "      <td>Auburn, AL</td>\n",
       "      <td>Incoming</td>\n",
       "      <td>(334) 703-1602</td>\n",
       "      <td>Text</td>\n",
       "    </tr>\n",
       "    <tr>\n",
       "      <th>1</th>\n",
       "      <td>1</td>\n",
       "      <td>2016-04-19 12:14:00</td>\n",
       "      <td>Auburn, AL</td>\n",
       "      <td>Incoming</td>\n",
       "      <td>(334) 703-1602</td>\n",
       "      <td>Text</td>\n",
       "    </tr>\n",
       "    <tr>\n",
       "      <th>2</th>\n",
       "      <td>2</td>\n",
       "      <td>2016-04-19 12:59:00</td>\n",
       "      <td>Auburn, AL</td>\n",
       "      <td>Outgoing</td>\n",
       "      <td>(334) 703-1602</td>\n",
       "      <td>Text</td>\n",
       "    </tr>\n",
       "    <tr>\n",
       "      <th>3</th>\n",
       "      <td>3</td>\n",
       "      <td>2016-04-19 13:02:00</td>\n",
       "      <td>Auburn, AL</td>\n",
       "      <td>Incoming</td>\n",
       "      <td>(334) 703-1602</td>\n",
       "      <td>Text</td>\n",
       "    </tr>\n",
       "    <tr>\n",
       "      <th>4</th>\n",
       "      <td>4</td>\n",
       "      <td>2016-04-19 13:22:00</td>\n",
       "      <td>Auburn, AL</td>\n",
       "      <td>Incoming</td>\n",
       "      <td>(334) 703-1602</td>\n",
       "      <td>Text</td>\n",
       "    </tr>\n",
       "  </tbody>\n",
       "</table>\n",
       "</div>"
      ],
      "text/plain": [
       "   index       Date and time Destination Direction          Number  Type\n",
       "0      0 2016-04-19 12:14:00  Auburn, AL  Incoming  (334) 703-1602  Text\n",
       "1      1 2016-04-19 12:14:00  Auburn, AL  Incoming  (334) 703-1602  Text\n",
       "2      2 2016-04-19 12:59:00  Auburn, AL  Outgoing  (334) 703-1602  Text\n",
       "3      3 2016-04-19 13:02:00  Auburn, AL  Incoming  (334) 703-1602  Text\n",
       "4      4 2016-04-19 13:22:00  Auburn, AL  Incoming  (334) 703-1602  Text"
      ]
     },
     "execution_count": 19,
     "metadata": {},
     "output_type": "execute_result"
    }
   ],
   "source": [
    "final_text.head()"
   ]
  },
  {
   "cell_type": "markdown",
   "metadata": {},
   "source": [
    "#### Graph Details\n",
    "\n",
    "- Nodes = 'Number': Talk, Text\n",
    "- Relationships = 'Call' and 'Text' ('Direction' denotes direction in the graph)\n",
    "- Properties = \n",
    "    - We'll add a 'Count' property to both relationships to capture the frequency of a relationship between nodes\n",
    "    - We'll add a list of call durations for 'Call' relationship between nodes\n",
    "    - For the more common call recipients, give them proper names rather than numbers and add the appropriate relationship between them (Melissa -> girlfriend -> Kurt)\n",
    "\n"
   ]
  },
  {
   "cell_type": "code",
   "execution_count": 20,
   "metadata": {
    "collapsed": true
   },
   "outputs": [],
   "source": [
    "def unique_and_concat(talk, text):\n",
    "    concated = np.concatenate([talk, text])\n",
    "    concated = np.unique(concated)\n",
    "    return concated      "
   ]
  },
  {
   "cell_type": "code",
   "execution_count": 21,
   "metadata": {
    "collapsed": true
   },
   "outputs": [],
   "source": [
    "talk_array = final_talk['Number'].values\n",
    "text_array = final_text['Number'].values\n",
    "\n",
    "unique_numbers = unique_and_concat(talk_array, text_array)"
   ]
  },
  {
   "cell_type": "code",
   "execution_count": 22,
   "metadata": {
    "collapsed": true
   },
   "outputs": [],
   "source": [
    "from src.labeled_property_graph import LabeledPropertyGraph\n",
    "from collections import namedtuple\n",
    "\n",
    "def add_nodes(array, lpg):\n",
    "    \"\"\"\n",
    "    Adds a numpy array containing objects intended to be nodes in the graph.\n",
    "    \"\"\"\n",
    "    try:\n",
    "        lpg.add_node('Kurt')\n",
    "    except KeyError:\n",
    "        pass\n",
    "    for something in array:\n",
    "        lpg.add_node(something)\n",
    "    \n",
    "    # Need to add functionality to add labels to each node.\n",
    "\n",
    "\n",
    "def text_direction_generator(array):\n",
    "    \"\"\"\n",
    "    Makes a generator that yields namedtuples for adding nodes to the graph.\n",
    "    \"\"\"\n",
    "    Texts = namedtuple('Texts', ('number', 'direction'))\n",
    "    for node, direction in array:\n",
    "        yield Texts(node, direction)\n",
    "\n",
    "\n",
    "def talk_direction_generator(array):\n",
    "    \"\"\"\n",
    "    Makes a generator that yields namedtuples for adding nodes to the lpg.\n",
    "    \"\"\"\n",
    "    Talk = namedtuple('Talk', ('number', 'direction', 'duration'))\n",
    "    for node, direction, duration in array:\n",
    "        yield Talk(node, direction, duration)\n",
    "        \n",
    "\n",
    "def add_text_relationships(text_gen, lpg):\n",
    "    \"\"\"\n",
    "    Checks if a text relationship exists between Kurt and the number,\n",
    "    if it does, increments the count property on the relationship. \n",
    "    If it doesn't, adds the relationship in the given direction and\n",
    "    creates the count property on the relationship.\n",
    "    \n",
    "    The way I'm having to do this suggests refactoring the lpg class.\n",
    "    \"\"\"\n",
    "    for relationship in text_gen:\n",
    "        if relationship.direction == 'Incoming':\n",
    "            arguments = ['Text', relationship.number, 'Kurt']\n",
    "        else:\n",
    "            arguments = ['Text', 'Kurt', relationship.number]\n",
    "        try:\n",
    "            lpg.add_relationship(*arguments)\n",
    "        except ValueError:\n",
    "            try:\n",
    "                count = lpg.get_relationship_properties(*arguments)\n",
    "                count['Count'] += 1\n",
    "            except KeyError:\n",
    "                lpg.add_rel_props(*arguments, Count=1)\n",
    "\n",
    "def add_talk_relationships(talk_gen, lpg):\n",
    "    \"\"\"\n",
    "    Adds a 'Talk' relationship between nodes.\n",
    "    If the relationships already exists, increments the count property on the relationship.\n",
    "    If the count property doesn't exist, creates it.\n",
    "    Adds the duration property to each relationship, or adds the duration to the list\n",
    "    on each property.\n",
    "    \"\"\"\n",
    "    for relationship in talk_gen:\n",
    "        if relationship.direction == 'Incoming':\n",
    "            arguments = ['Talk', relationship.number, 'Kurt']\n",
    "        else:\n",
    "            arguments = ['Talk', 'Kurt', relationship.number]\n",
    "        try:\n",
    "            lpg.add_relationship(*arguments)\n",
    "        except ValueError:\n",
    "            try:\n",
    "                count = lpg.get_relationship_properties(*arguments)\n",
    "                count['Count'] += 1\n",
    "                count['Duration'].append(relationship.duration)\n",
    "            except KeyError:\n",
    "                lpg.add_rel_props(*arguments, Count=1, Duration=[relationship.duration])"
   ]
  },
  {
   "cell_type": "code",
   "execution_count": 23,
   "metadata": {
    "collapsed": true
   },
   "outputs": [],
   "source": [
    "phone_lpg = LabeledPropertyGraph()"
   ]
  },
  {
   "cell_type": "code",
   "execution_count": 24,
   "metadata": {
    "collapsed": true
   },
   "outputs": [],
   "source": [
    "add_nodes(unique_numbers, phone_lpg)"
   ]
  },
  {
   "cell_type": "code",
   "execution_count": 25,
   "metadata": {
    "collapsed": true
   },
   "outputs": [],
   "source": [
    "text_array_two = final_text[['Number', 'Direction']].values\n",
    "talk_array_two = final_talk[['Number', 'Description', 'Min']].values"
   ]
  },
  {
   "cell_type": "code",
   "execution_count": 26,
   "metadata": {
    "collapsed": true
   },
   "outputs": [],
   "source": [
    "text_gen = text_direction_generator(text_array_two)\n",
    "talk_gen = talk_direction_generator(talk_array_two)"
   ]
  },
  {
   "cell_type": "code",
   "execution_count": 27,
   "metadata": {
    "collapsed": true
   },
   "outputs": [],
   "source": [
    "add_text_relationships(text_gen, phone_lpg)"
   ]
  },
  {
   "cell_type": "code",
   "execution_count": 28,
   "metadata": {
    "collapsed": true
   },
   "outputs": [],
   "source": [
    "add_talk_relationships(talk_gen, phone_lpg)"
   ]
  },
  {
   "cell_type": "code",
   "execution_count": 29,
   "metadata": {},
   "outputs": [
    {
     "data": {
      "text/plain": [
       "src.labeled_property_graph.Node"
      ]
     },
     "execution_count": 29,
     "metadata": {},
     "output_type": "execute_result"
    }
   ],
   "source": [
    "type(phone_lpg['Kurt'])"
   ]
  },
  {
   "cell_type": "code",
   "execution_count": 30,
   "metadata": {},
   "outputs": [
    {
     "data": {
      "text/plain": [
       "['(334) 703-1602',\n",
       " '(334) 559-0212',\n",
       " '(808) 895-7253',\n",
       " '(406) 212-1749',\n",
       " '(315) 415-5863',\n",
       " '(210) 286-6194',\n",
       " '(317) 432-3506',\n",
       " '(386) 265-3895',\n",
       " '(904) 982-7355',\n",
       " '(206) 496-5990',\n",
       " '(573) 239-2090',\n",
       " '(573) 864-5068',\n",
       " '(334) 728-0615',\n",
       " '(904) 844-1772',\n",
       " '(571) 699-7588',\n",
       " '(334) 268-9366',\n",
       " '(206) 979-0306',\n",
       " '(360) 508-7520',\n",
       " '(859) 221-9542',\n",
       " '(256) 333-1415',\n",
       " '(973) 419-6864',\n",
       " '(757) 439-4180',\n",
       " '(925) 360-5153',\n",
       " '(409) 781-7925',\n",
       " '(334) 434-2143',\n",
       " '(253) 666-5917',\n",
       " '(334) 524-4236',\n",
       " '(417) 844-7339',\n",
       " '(813) 846-1663',\n",
       " '(334) 329-9715',\n",
       " '(334) 559-2958',\n",
       " '(253) 228-9150',\n",
       " '(415) 727-6703',\n",
       " '(413) 338-8562',\n",
       " '(425) 533-7109',\n",
       " '(352) 682-4897',\n",
       " '(646) 418-3301',\n",
       " '(484) 369-6234',\n",
       " '(559) 471-6113',\n",
       " '(847) 508-5468',\n",
       " '(701) 771-2288',\n",
       " '(407) 432-4135',\n",
       " '(928) 287-1145',\n",
       " '(313) 399-3973',\n",
       " '(917) 855-0106',\n",
       " '(724) 989-0296',\n",
       " '(772) 473-1888',\n",
       " '(904) 228-9422',\n",
       " '(206) 519-4098',\n",
       " '(832) 671-6190',\n",
       " '(703) 987-3167',\n",
       " '(570) 267-5289',\n",
       " '(757) 292-0819',\n",
       " '(509) 434-6614',\n",
       " '(732) 705-1575',\n",
       " '(406) 679-1390',\n",
       " '(205) 563-2792',\n",
       " '(302) 607-8313',\n",
       " '(206) 377-9229',\n",
       " '(425) 443-9605',\n",
       " '(682) 582-5416',\n",
       " '(310) 210-0536',\n",
       " '(479) 883-0862',\n",
       " '(470) 774-9728',\n",
       " '(425) 985-1012',\n",
       " '(310) 954-9570',\n",
       " '(206) 639-0399',\n",
       " '(904) 314-2499',\n",
       " '(440) 829-9865',\n",
       " '(206) 817-4110',\n",
       " '(206) 331-7400',\n",
       " '(425) 444-5196',\n",
       " '(253) 228-8448',\n",
       " '(267) 767-9633',\n",
       " '(603) 733-9031',\n",
       " '(901) 830-0041',\n",
       " '(806) 786-2801',\n",
       " '(912) 266-0568',\n",
       " '(757) 439-1407',\n",
       " '(832) 367-4886',\n",
       " '(206) 661-2015',\n",
       " '(469) 531-9999',\n",
       " '(360) 396-4788',\n",
       " '(949) 930-3520',\n",
       " '(360) 307-8114',\n",
       " '(360) 377-1777',\n",
       " '(888) 442-4551',\n",
       " '(800) 934-6489',\n",
       " '(360) 396-4159',\n",
       " '(800) 275-8777',\n",
       " '(360) 782-0129',\n",
       " '(360) 473-0340',\n",
       " '(210) 531-8722',\n",
       " '(866) 831-3207',\n",
       " '(951) 659-4335',\n",
       " '(951) 769-3336',\n",
       " '(951) 233-7708',\n",
       " '(951) 750-4399',\n",
       " '(951) 849-7506',\n",
       " '(909) 866-8505',\n",
       " '(909) 800-7028',\n",
       " '(909) 866-8900',\n",
       " '(909) 866-8294',\n",
       " '(352) 392-4357',\n",
       " '(206) 588-1613',\n",
       " '(206) 545-7440',\n",
       " '(206) 934-5450',\n",
       " '(206) 216-1956',\n",
       " '(503) 272-3311',\n",
       " '(541) 388-0688',\n",
       " '(541) 549-8424',\n",
       " '(541) 374-8628',\n",
       " '(509) 395-2777',\n",
       " '(509) 395-9319',\n",
       " '(206) 941-4099',\n",
       " '(509) 395-9307',\n",
       " '(509) 395-0008',\n",
       " '(503) 880-4412',\n",
       " '(509) 395-2318',\n",
       " '(509) 395-2821',\n",
       " '(503) 481-4334',\n",
       " '(971) 570-6930',\n",
       " '(509) 395-2560',\n",
       " '(509) 637-5995',\n",
       " '(509) 395-2585',\n",
       " '(509) 395-2489',\n",
       " '(503) 320-2913',\n",
       " '(509) 637-0035',\n",
       " '(425) 434-6300',\n",
       " '(509) 682-4494',\n",
       " '(509) 548-7212',\n",
       " '(503) 626-7310',\n",
       " '(206) 624-6248',\n",
       " '(206) 937-6369',\n",
       " '(206) 632-3575',\n",
       " '(206) 931-0432',\n",
       " '(206) 223-1480',\n",
       " '(334) 366-4604',\n",
       " '(334) 745-0223',\n",
       " '(916) 285-1846',\n",
       " '(800) 700-7617',\n",
       " '(334) 745-5155',\n",
       " '(334) 887-0004',\n",
       " '(206) 472-1542',\n",
       " '(201) 474-3182',\n",
       " '(800) 742-5877',\n",
       " '(530) 832-5528',\n",
       " '(206) 216-7684',\n",
       " '(334) 501-3100',\n",
       " '(334) 501-3150',\n",
       " '(800) 468-2248',\n",
       " '(800) 252-7522',\n",
       " '(800) 528-4800',\n",
       " '(206) 681-9318',\n",
       " '(206) 886-0556',\n",
       " '(206) 547-5420',\n",
       " '(206) 632-0880',\n",
       " '(206) 466-2846',\n",
       " '(206) 726-5650',\n",
       " '(206) 512-1265',\n",
       " '(206) 297-4300',\n",
       " '(206) 784-3113',\n",
       " '(206) 330-0510',\n",
       " '(206) 547-0818',\n",
       " '(206) 548-0502',\n",
       " '(206) 524-8554',\n",
       " '(800) 634-8379',\n",
       " '(866) 634-8379',\n",
       " '(888) 280-4331',\n",
       " '(855) 220-3806',\n",
       " '(800) 756-4105',\n",
       " '(530) 283-9880',\n",
       " '(530) 235-2676',\n",
       " '(530) 335-5430',\n",
       " '(530) 467-5338',\n",
       " '(541) 482-9217',\n",
       " '(541) 482-5181',\n",
       " '(541) 708-0035',\n",
       " '(206) 441-4348',\n",
       " '(206) 235-6499',\n",
       " '(760) 873-5991',\n",
       " '(877) 222-8387',\n",
       " '(800) 562-3022',\n",
       " '(855) 923-4633',\n",
       " '(800) 329-8387',\n",
       " '(530) 580-8294',\n",
       " '(530) 543-0330',\n",
       " '(530) 577-7000',\n",
       " '(800) 320-2915',\n",
       " '(855) 313-1623',\n",
       " '(866) 999-0914',\n",
       " '(206) 223-1944',\n",
       " '(877) 731-3652',\n",
       " '(206) 322-4368',\n",
       " '(253) 719-2242',\n",
       " '(425) 277-1635',\n",
       " '(206) 938-7576',\n",
       " '(206) 812-2822',\n",
       " '(206) 324-5182',\n",
       " '(206) 466-2160',\n",
       " '(206) 934-3600',\n",
       " '(866) 790-8450',\n",
       " '(206) 789-0470',\n",
       " '(619) 734-7289',\n",
       " '(760) 249-4800',\n",
       " '(760) 249-4673',\n",
       " '(760) 259-3453',\n",
       " '(760) 249-3453',\n",
       " '(760) 249-6393',\n",
       " '(760) 249-9974',\n",
       " '(901) 874-4845',\n",
       " '(901) 874-2371',\n",
       " '(360) 337-7129',\n",
       " '(310) 817-1595',\n",
       " '(661) 724-1100',\n",
       " '(661) 632-1800',\n",
       " '(661) 323-8387',\n",
       " '(661) 868-7300',\n",
       " '(661) 822-3184',\n",
       " '(800) 560-1733',\n",
       " '(661) 825-5015',\n",
       " '(661) 823-4940',\n",
       " '(661) 822-6801',\n",
       " '(661) 822-4938',\n",
       " '(661) 822-1900',\n",
       " '(800) 323-2396',\n",
       " '(760) 399-6316',\n",
       " '(206) 877-2178',\n",
       " '(206) 588-2570',\n",
       " '(206) 547-2040',\n",
       " '(206) 306-7663',\n",
       " '(206) 934-4068',\n",
       " '(800) 999-3355',\n",
       " '(206) 395-9227',\n",
       " '(206) 432-9069',\n",
       " '(800) 827-1000',\n",
       " '(888) 842-6328',\n",
       " '(888) 524-1283',\n",
       " '(800) 522-7458',\n",
       " '(206) 245-1986',\n",
       " '(206) 453-4527',\n",
       " '(800) 707-0393',\n",
       " '(206) 694-6700',\n",
       " '(206) 285-7489',\n",
       " '(206) 632-1064',\n",
       " '(888) 578-8378',\n",
       " '(206) 762-1010',\n",
       " '(206) 553-1826',\n",
       " '(858) 715-1501',\n",
       " '(206) 524-0715',\n",
       " '(800) 711-3918',\n",
       " '(866) 617-1894',\n",
       " '(206) 386-4636',\n",
       " '(855) 652-3446',\n",
       " '(800) 931-0790',\n",
       " '(206) 901-3200',\n",
       " '(206) 937-0551',\n",
       " '(206) 329-1545',\n",
       " '(206) 743-8866',\n",
       " '(800) 221-1212',\n",
       " '(206) 962-8590',\n",
       " '(206) 925-9979',\n",
       " '(206) 728-2588',\n",
       " '(888) 413-7177',\n",
       " '(206) 706-6303',\n",
       " '(800) 531-8722',\n",
       " '(360) 627-3371',\n",
       " '(360) 627-3370',\n",
       " '(360) 396-5508',\n",
       " '(800) 200-7056',\n",
       " '(866) 585-2951',\n",
       " '(206) 545-0669',\n",
       " '(206) 781-0700',\n",
       " '(206) 789-6764',\n",
       " '(206) 284-7356',\n",
       " '(360) 476-7366',\n",
       " '(206) 414-9585',\n",
       " '(800) 432-3117',\n",
       " '(206) 545-8892',\n",
       " '(360) 867-8808',\n",
       " '(360) 396-6821',\n",
       " '(360) 396-5482',\n",
       " '(206) 543-4661',\n",
       " '(360) 265-9183',\n",
       " '(206) 466-5269',\n",
       " '(206) 922-0193',\n",
       " '(206) 523-1533',\n",
       " '(540) 341-3299',\n",
       " '(540) 347-1300',\n",
       " '(425) 233-3031',\n",
       " '(206) 535-8765',\n",
       " '(646) 568-9861',\n",
       " '(425) 697-3798',\n",
       " '(206) 543-7222',\n",
       " '(844) 692-7955',\n",
       " '(206) 621-6422',\n",
       " '(206) 695-2051',\n",
       " '(866) 866-6285',\n",
       " '(206) 632-6811',\n",
       " '(206) 297-7116',\n",
       " '(206) 587-4036']"
      ]
     },
     "execution_count": 30,
     "metadata": {},
     "output_type": "execute_result"
    }
   ],
   "source": [
    "phone_lpg.get_neighbors('Kurt')"
   ]
  },
  {
   "cell_type": "code",
   "execution_count": 31,
   "metadata": {
    "collapsed": true
   },
   "outputs": [],
   "source": [
    "people = {\n",
    "    '(334) 703-1602': 'Melissa',\n",
    "    '(334) 559-0212': 'Dad',\n",
    "    '(334) 728-0615': 'Mom',\n",
    "    \n",
    "}"
   ]
  },
  {
   "cell_type": "code",
   "execution_count": 32,
   "metadata": {},
   "outputs": [],
   "source": [
    "import allel"
   ]
  },
  {
   "cell_type": "code",
   "execution_count": 33,
   "metadata": {
    "scrolled": true
   },
   "outputs": [],
   "source": [
    "with open('Contacts.vcf') as f:\n",
    "    splitLine = f.read().split('END:VCARD')"
   ]
  },
  {
   "cell_type": "code",
   "execution_count": 40,
   "metadata": {
    "collapsed": true
   },
   "outputs": [],
   "source": [
    "def split_it(split):\n",
    "    for line in splitLine:\n",
    "        split = line.split()\n",
    "        for word in split:\n",
    "            finished = ''\n",
    "            name = ''\n",
    "            if ';;;' in word:\n",
    "                name = word.strip(';N:')\n",
    "            if 'CELL' in word:\n",
    "                stripped_word = word.split(':')[-1]\n",
    "                import pdb; pdb.set_trace()\n",
    "                groomed_num = stripped_word.strip('#+')\n",
    "                if len(groomed_num) == 11:\n",
    "                    finished = '(' + groomed_num[1:4] + ') ' + groomed_num[4:7] + '-' + groomed_num[7:]\n",
    "                elif len(groomed_num) == 10:\n",
    "                    finished = '(' + groomed_num[0:3] + ') ' + groomed_num[3:6] + '-' + groomed_num[6:]\n",
    "                else:\n",
    "                    continue\n",
    "                yield {finished: name}"
   ]
  },
  {
   "cell_type": "code",
   "execution_count": 41,
   "metadata": {
    "collapsed": true
   },
   "outputs": [],
   "source": [
    "gen = split_it(splitLine)"
   ]
  },
  {
   "cell_type": "code",
   "execution_count": null,
   "metadata": {
    "scrolled": false
   },
   "outputs": [
    {
     "name": "stdout",
     "output_type": "stream",
     "text": [
      "> <ipython-input-40-578d05233184>(12)split_it()\n",
      "-> groomed_num = stripped_word.strip('#+')\n",
      "(Pdb) name\n",
      "''\n",
      "(Pdb) word\n",
      "'TEL;CELL:+17168630223'\n",
      "(Pdb) line\n",
      "'BEGIN:VCARD\\nVERSION:2.1\\nN:;Kagan;;;\\nFN:Kagan\\nTEL;CELL:+17168630223\\n'\n",
      "(Pdb) splits = line.split()\n",
      "(Pdb) splits\n",
      "['BEGIN:VCARD', 'VERSION:2.1', 'N:;Kagan;;;', 'FN:Kagan', 'TEL;CELL:+17168630223']\n",
      "(Pdb) ';;;' in splits[2]\n",
      "*** SyntaxError: EOL while scanning string literal\n",
      "*** SyntaxError: invalid syntax\n"
     ]
    }
   ],
   "source": [
    "next(gen)"
   ]
  },
  {
   "cell_type": "code",
   "execution_count": null,
   "metadata": {
    "scrolled": false
   },
   "outputs": [],
   "source": [
    "start = 'BEGIN:VCARD'\n",
    "end = 'END:VCARD'\n",
    "\n",
    "lines = []\n",
    "line = []\n",
    "for words in splitLine:\n",
    "    flag = False\n",
    "    if words == start:\n",
    "        flag = True\n",
    "    \n",
    "        "
   ]
  },
  {
   "cell_type": "code",
   "execution_count": null,
   "metadata": {
    "collapsed": true
   },
   "outputs": [],
   "source": []
  }
 ],
 "metadata": {
  "kernelspec": {
   "display_name": "Python 3",
   "language": "python",
   "name": "python3"
  },
  "language_info": {
   "codemirror_mode": {
    "name": "ipython",
    "version": 3
   },
   "file_extension": ".py",
   "mimetype": "text/x-python",
   "name": "python",
   "nbconvert_exporter": "python",
   "pygments_lexer": "ipython3",
   "version": "3.6.3"
  }
 },
 "nbformat": 4,
 "nbformat_minor": 2
}
