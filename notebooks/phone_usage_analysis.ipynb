{
 "cells": [
  {
   "cell_type": "markdown",
   "metadata": {},
   "source": [
    "## Communication Graph\n",
    "\n",
    "This notebook is dedicated to exploration and pattern finding in my cell phone bills which are in PDF formats. The ultimate goal is to make a graph out of it.\n",
    "\n",
    "After developing a pattern, I'll make a function or a class to do everything for me.\n",
    "\n",
    "#### Exploration and Pattern Finding\n",
    "\n",
    "The first section is just exploration."
   ]
  },
  {
   "cell_type": "code",
   "execution_count": 1,
   "metadata": {
    "collapsed": true,
    "scrolled": true
   },
   "outputs": [],
   "source": [
    "# Set up.\n",
    "%matplotlib inline\n",
    "\n",
    "import matplotlib as plt\n",
    "import numpy as np\n",
    "import os\n",
    "import pandas as pd\n",
    "import PyPDF2\n",
    "import re\n",
    "import seaborn\n",
    "import sys\n",
    "import networkx\n",
    "\n",
    "from IPython.core.interactiveshell import InteractiveShell\n",
    "InteractiveShell.ast_node_interactivity = 'all'\n",
    "\n",
    "from src.tmobile_bill_parser import (parse_bill, parse_multiple_bills)"
   ]
  },
  {
   "cell_type": "code",
   "execution_count": 2,
   "metadata": {},
   "outputs": [
    {
     "data": {
      "text/plain": [
       "True"
      ]
     },
     "execution_count": 2,
     "metadata": {},
     "output_type": "execute_result"
    }
   ],
   "source": [
    "os.path.isdir('../bills')"
   ]
  },
  {
   "cell_type": "code",
   "execution_count": 3,
   "metadata": {
    "collapsed": true
   },
   "outputs": [],
   "source": [
    "bill_directory = parse_multiple_bills('../bills')"
   ]
  },
  {
   "cell_type": "markdown",
   "metadata": {},
   "source": [
    "### Introduction\n",
    "\n",
    "- [x] Make all data the proper datatype.\n",
    "- [n/a] Separate destination into city and state.\n",
    "- [x] Numbers must be in roughly the same format.\n",
    "- [x] Treat Text, Data, and Talk as separate tables or graphs."
   ]
  },
  {
   "cell_type": "code",
   "execution_count": 4,
   "metadata": {
    "collapsed": true,
    "scrolled": true
   },
   "outputs": [],
   "source": [
    "text_dfs = [pd.DataFrame(bill_directory[bill_period]['Text']) for bill_period in bill_directory]\n",
    "data_dfs = [pd.DataFrame(bill_directory[bill_period]['Data']) for bill_period in bill_directory]\n",
    "talk_dfs = [pd.DataFrame(bill_directory[bill_period]['Talk']) for bill_period in bill_directory]\n",
    "\n",
    "text_df = pd.concat(text_dfs).reset_index()\n",
    "data_df = pd.concat(data_dfs).reset_index()\n",
    "talk_df = pd.concat(talk_dfs).reset_index()"
   ]
  },
  {
   "cell_type": "code",
   "execution_count": 5,
   "metadata": {},
   "outputs": [
    {
     "data": {
      "text/plain": [
       "-    14526\n",
       "Name: Amount, dtype: int64"
      ]
     },
     "execution_count": 5,
     "metadata": {},
     "output_type": "execute_result"
    }
   ],
   "source": [
    "text_df['Amount'].value_counts()\n",
    "text = text_df.drop(['Amount'], axis=1)"
   ]
  },
  {
   "cell_type": "code",
   "execution_count": 6,
   "metadata": {
    "scrolled": true
   },
   "outputs": [
    {
     "name": "stdout",
     "output_type": "stream",
     "text": [
      "<class 'pandas.core.frame.DataFrame'>\n",
      "RangeIndex: 4632 entries, 0 to 4631\n",
      "Data columns (total 7 columns):\n",
      "index            4632 non-null int64\n",
      "Amount           4632 non-null object\n",
      "Date and time    4632 non-null object\n",
      "MB               4632 non-null object\n",
      "Origin           4632 non-null object\n",
      "Service          4632 non-null object\n",
      "Type             4632 non-null object\n",
      "dtypes: int64(1), object(6)\n",
      "memory usage: 253.4+ KB\n"
     ]
    },
    {
     "data": {
      "text/html": [
       "<div>\n",
       "<style>\n",
       "    .dataframe thead tr:only-child th {\n",
       "        text-align: right;\n",
       "    }\n",
       "\n",
       "    .dataframe thead th {\n",
       "        text-align: left;\n",
       "    }\n",
       "\n",
       "    .dataframe tbody tr th {\n",
       "        vertical-align: top;\n",
       "    }\n",
       "</style>\n",
       "<table border=\"1\" class=\"dataframe\">\n",
       "  <thead>\n",
       "    <tr style=\"text-align: right;\">\n",
       "      <th></th>\n",
       "      <th>index</th>\n",
       "      <th>Amount</th>\n",
       "      <th>Date and time</th>\n",
       "      <th>MB</th>\n",
       "      <th>Origin</th>\n",
       "      <th>Service</th>\n",
       "      <th>Type</th>\n",
       "    </tr>\n",
       "  </thead>\n",
       "  <tbody>\n",
       "    <tr>\n",
       "      <th>0</th>\n",
       "      <td>0</td>\n",
       "      <td>-</td>\n",
       "      <td>04/19/16, 12:15 AM</td>\n",
       "      <td>0.0097</td>\n",
       "      <td>-</td>\n",
       "      <td>Mobile Internet</td>\n",
       "      <td>-</td>\n",
       "    </tr>\n",
       "    <tr>\n",
       "      <th>1</th>\n",
       "      <td>1</td>\n",
       "      <td>-</td>\n",
       "      <td>04/19/16, 5:15 AM</td>\n",
       "      <td>0.0087</td>\n",
       "      <td>-</td>\n",
       "      <td>Mobile Internet</td>\n",
       "      <td>-</td>\n",
       "    </tr>\n",
       "    <tr>\n",
       "      <th>2</th>\n",
       "      <td>2</td>\n",
       "      <td>-</td>\n",
       "      <td>04/19/16, 6:20 AM</td>\n",
       "      <td>0.0644</td>\n",
       "      <td>-</td>\n",
       "      <td>Mobile Internet</td>\n",
       "      <td>-</td>\n",
       "    </tr>\n",
       "    <tr>\n",
       "      <th>3</th>\n",
       "      <td>3</td>\n",
       "      <td>-</td>\n",
       "      <td>04/19/16, 6:22 AM</td>\n",
       "      <td>0.1093</td>\n",
       "      <td>-</td>\n",
       "      <td>Mobile Internet</td>\n",
       "      <td>-</td>\n",
       "    </tr>\n",
       "    <tr>\n",
       "      <th>4</th>\n",
       "      <td>4</td>\n",
       "      <td>-</td>\n",
       "      <td>04/19/16, 6:26 AM</td>\n",
       "      <td>0.2158</td>\n",
       "      <td>-</td>\n",
       "      <td>Mobile Internet</td>\n",
       "      <td>-</td>\n",
       "    </tr>\n",
       "  </tbody>\n",
       "</table>\n",
       "</div>"
      ],
      "text/plain": [
       "   index Amount       Date and time      MB Origin          Service Type\n",
       "0      0      -  04/19/16, 12:15 AM  0.0097      -  Mobile Internet    -\n",
       "1      1      -   04/19/16, 5:15 AM  0.0087      -  Mobile Internet    -\n",
       "2      2      -   04/19/16, 6:20 AM  0.0644      -  Mobile Internet    -\n",
       "3      3      -   04/19/16, 6:22 AM  0.1093      -  Mobile Internet    -\n",
       "4      4      -   04/19/16, 6:26 AM  0.2158      -  Mobile Internet    -"
      ]
     },
     "execution_count": 6,
     "metadata": {},
     "output_type": "execute_result"
    }
   ],
   "source": [
    "data_df.info()\n",
    "data_df.head()\n",
    "data = data_df.drop(['Amount', 'Origin', 'Type', 'Service'], axis=1)"
   ]
  },
  {
   "cell_type": "code",
   "execution_count": 7,
   "metadata": {},
   "outputs": [
    {
     "data": {
      "text/plain": [
       "-    1774\n",
       "Name: Amount, dtype: int64"
      ]
     },
     "execution_count": 7,
     "metadata": {},
     "output_type": "execute_result"
    }
   ],
   "source": [
    "talk_df['Amount'].value_counts()\n",
    "talk = talk_df.drop(['Amount', 'Type'], axis=1)"
   ]
  },
  {
   "cell_type": "code",
   "execution_count": 8,
   "metadata": {},
   "outputs": [
    {
     "data": {
      "text/html": [
       "<div>\n",
       "<style>\n",
       "    .dataframe thead tr:only-child th {\n",
       "        text-align: right;\n",
       "    }\n",
       "\n",
       "    .dataframe thead th {\n",
       "        text-align: left;\n",
       "    }\n",
       "\n",
       "    .dataframe tbody tr th {\n",
       "        vertical-align: top;\n",
       "    }\n",
       "</style>\n",
       "<table border=\"1\" class=\"dataframe\">\n",
       "  <thead>\n",
       "    <tr style=\"text-align: right;\">\n",
       "      <th></th>\n",
       "      <th>index</th>\n",
       "      <th>Date and time</th>\n",
       "      <th>Description</th>\n",
       "      <th>Min</th>\n",
       "      <th>Number</th>\n",
       "    </tr>\n",
       "  </thead>\n",
       "  <tbody>\n",
       "    <tr>\n",
       "      <th>0</th>\n",
       "      <td>0</td>\n",
       "      <td>04/19/16, 10:01 AM</td>\n",
       "      <td>to GRAND PRAR/TX</td>\n",
       "      <td>1</td>\n",
       "      <td>(469) 531-9999</td>\n",
       "    </tr>\n",
       "    <tr>\n",
       "      <th>1</th>\n",
       "      <td>1</td>\n",
       "      <td>04/19/16, 11:53 AM</td>\n",
       "      <td>to AUBURN/AL</td>\n",
       "      <td>7</td>\n",
       "      <td>(334) 728-0615</td>\n",
       "    </tr>\n",
       "    <tr>\n",
       "      <th>2</th>\n",
       "      <td>2</td>\n",
       "      <td>04/19/16, 3:32 PM</td>\n",
       "      <td>to AUBURN/AL</td>\n",
       "      <td>14</td>\n",
       "      <td>(334) 728-0615</td>\n",
       "    </tr>\n",
       "    <tr>\n",
       "      <th>3</th>\n",
       "      <td>3</td>\n",
       "      <td>04/20/16, 6:30 AM</td>\n",
       "      <td>Incoming</td>\n",
       "      <td>7</td>\n",
       "      <td>(334) 728-0615</td>\n",
       "    </tr>\n",
       "    <tr>\n",
       "      <th>4</th>\n",
       "      <td>4</td>\n",
       "      <td>04/20/16, 6:48 AM</td>\n",
       "      <td>to OPELIKA/AL</td>\n",
       "      <td>7</td>\n",
       "      <td>(334) 559-0212</td>\n",
       "    </tr>\n",
       "  </tbody>\n",
       "</table>\n",
       "</div>"
      ],
      "text/plain": [
       "   index       Date and time       Description Min          Number\n",
       "0      0  04/19/16, 10:01 AM  to GRAND PRAR/TX   1  (469) 531-9999\n",
       "1      1  04/19/16, 11:53 AM      to AUBURN/AL   7  (334) 728-0615\n",
       "2      2   04/19/16, 3:32 PM      to AUBURN/AL  14  (334) 728-0615\n",
       "3      3   04/20/16, 6:30 AM          Incoming   7  (334) 728-0615\n",
       "4      4   04/20/16, 6:48 AM     to OPELIKA/AL   7  (334) 559-0212"
      ]
     },
     "execution_count": 8,
     "metadata": {},
     "output_type": "execute_result"
    },
    {
     "data": {
      "text/html": [
       "<div>\n",
       "<style>\n",
       "    .dataframe thead tr:only-child th {\n",
       "        text-align: right;\n",
       "    }\n",
       "\n",
       "    .dataframe thead th {\n",
       "        text-align: left;\n",
       "    }\n",
       "\n",
       "    .dataframe tbody tr th {\n",
       "        vertical-align: top;\n",
       "    }\n",
       "</style>\n",
       "<table border=\"1\" class=\"dataframe\">\n",
       "  <thead>\n",
       "    <tr style=\"text-align: right;\">\n",
       "      <th></th>\n",
       "      <th>index</th>\n",
       "      <th>Date and time</th>\n",
       "      <th>Destination</th>\n",
       "      <th>Direction</th>\n",
       "      <th>Number</th>\n",
       "      <th>Type</th>\n",
       "    </tr>\n",
       "  </thead>\n",
       "  <tbody>\n",
       "    <tr>\n",
       "      <th>0</th>\n",
       "      <td>0</td>\n",
       "      <td>04/19/16, 12:14 PM</td>\n",
       "      <td>Auburn, AL</td>\n",
       "      <td>Incoming</td>\n",
       "      <td>(334) 703-1602</td>\n",
       "      <td>Text</td>\n",
       "    </tr>\n",
       "    <tr>\n",
       "      <th>1</th>\n",
       "      <td>1</td>\n",
       "      <td>04/19/16, 12:14 PM</td>\n",
       "      <td>Auburn, AL</td>\n",
       "      <td>Incoming</td>\n",
       "      <td>(334) 703-1602</td>\n",
       "      <td>Text</td>\n",
       "    </tr>\n",
       "    <tr>\n",
       "      <th>2</th>\n",
       "      <td>2</td>\n",
       "      <td>04/19/16, 12:59 PM</td>\n",
       "      <td>Auburn, AL</td>\n",
       "      <td>Outgoing</td>\n",
       "      <td>(334) 703-1602</td>\n",
       "      <td>Text</td>\n",
       "    </tr>\n",
       "    <tr>\n",
       "      <th>3</th>\n",
       "      <td>3</td>\n",
       "      <td>04/19/16, 1:02 PM</td>\n",
       "      <td>Auburn, AL</td>\n",
       "      <td>Incoming</td>\n",
       "      <td>(334) 703-1602</td>\n",
       "      <td>Text</td>\n",
       "    </tr>\n",
       "    <tr>\n",
       "      <th>4</th>\n",
       "      <td>4</td>\n",
       "      <td>04/19/16, 1:22 PM</td>\n",
       "      <td>Auburn, AL</td>\n",
       "      <td>Incoming</td>\n",
       "      <td>(334) 703-1602</td>\n",
       "      <td>Text</td>\n",
       "    </tr>\n",
       "  </tbody>\n",
       "</table>\n",
       "</div>"
      ],
      "text/plain": [
       "   index       Date and time Destination Direction          Number  Type\n",
       "0      0  04/19/16, 12:14 PM  Auburn, AL  Incoming  (334) 703-1602  Text\n",
       "1      1  04/19/16, 12:14 PM  Auburn, AL  Incoming  (334) 703-1602  Text\n",
       "2      2  04/19/16, 12:59 PM  Auburn, AL  Outgoing  (334) 703-1602  Text\n",
       "3      3   04/19/16, 1:02 PM  Auburn, AL  Incoming  (334) 703-1602  Text\n",
       "4      4   04/19/16, 1:22 PM  Auburn, AL  Incoming  (334) 703-1602  Text"
      ]
     },
     "execution_count": 8,
     "metadata": {},
     "output_type": "execute_result"
    },
    {
     "data": {
      "text/html": [
       "<div>\n",
       "<style>\n",
       "    .dataframe thead tr:only-child th {\n",
       "        text-align: right;\n",
       "    }\n",
       "\n",
       "    .dataframe thead th {\n",
       "        text-align: left;\n",
       "    }\n",
       "\n",
       "    .dataframe tbody tr th {\n",
       "        vertical-align: top;\n",
       "    }\n",
       "</style>\n",
       "<table border=\"1\" class=\"dataframe\">\n",
       "  <thead>\n",
       "    <tr style=\"text-align: right;\">\n",
       "      <th></th>\n",
       "      <th>index</th>\n",
       "      <th>Date and time</th>\n",
       "      <th>MB</th>\n",
       "    </tr>\n",
       "  </thead>\n",
       "  <tbody>\n",
       "    <tr>\n",
       "      <th>0</th>\n",
       "      <td>0</td>\n",
       "      <td>04/19/16, 12:15 AM</td>\n",
       "      <td>0.0097</td>\n",
       "    </tr>\n",
       "    <tr>\n",
       "      <th>1</th>\n",
       "      <td>1</td>\n",
       "      <td>04/19/16, 5:15 AM</td>\n",
       "      <td>0.0087</td>\n",
       "    </tr>\n",
       "    <tr>\n",
       "      <th>2</th>\n",
       "      <td>2</td>\n",
       "      <td>04/19/16, 6:20 AM</td>\n",
       "      <td>0.0644</td>\n",
       "    </tr>\n",
       "    <tr>\n",
       "      <th>3</th>\n",
       "      <td>3</td>\n",
       "      <td>04/19/16, 6:22 AM</td>\n",
       "      <td>0.1093</td>\n",
       "    </tr>\n",
       "    <tr>\n",
       "      <th>4</th>\n",
       "      <td>4</td>\n",
       "      <td>04/19/16, 6:26 AM</td>\n",
       "      <td>0.2158</td>\n",
       "    </tr>\n",
       "  </tbody>\n",
       "</table>\n",
       "</div>"
      ],
      "text/plain": [
       "   index       Date and time      MB\n",
       "0      0  04/19/16, 12:15 AM  0.0097\n",
       "1      1   04/19/16, 5:15 AM  0.0087\n",
       "2      2   04/19/16, 6:20 AM  0.0644\n",
       "3      3   04/19/16, 6:22 AM  0.1093\n",
       "4      4   04/19/16, 6:26 AM  0.2158"
      ]
     },
     "execution_count": 8,
     "metadata": {},
     "output_type": "execute_result"
    }
   ],
   "source": [
    "talk.head()\n",
    "text.head()\n",
    "data.head()"
   ]
  },
  {
   "cell_type": "code",
   "execution_count": 9,
   "metadata": {
    "collapsed": true
   },
   "outputs": [],
   "source": [
    "data['Date and time'] = pd.to_datetime(data['Date and time'])\n",
    "text['Date and time'] = pd.to_datetime(text['Date and time'])\n",
    "talk['Date and time'] = pd.to_datetime(talk['Date and time'])\n",
    "data['MB'] = pd.to_numeric(data['MB'])\n",
    "talk['Min'] = pd.to_numeric(talk['Min'])"
   ]
  },
  {
   "cell_type": "markdown",
   "metadata": {},
   "source": [
    "I think the Data column is good for a seeing usage over a period of time, maybe seeing if there's a pattern in the my activity over the course of a day, or days of the week I'm more active. Otherwise, I may cache that for later.\n",
    "\n",
    "I think there's a number of graphs to be made form the Text and Talk sets.\n",
    "\n",
    "#### Text \n",
    "\n",
    "- A graph between me and identifiable phone numbers, outgoing.\n",
    "- A graph between me and identifiable phone numbers, incoming.\n",
    "- A graph between me (Seattle) and destinations, though this may not be accurate since the destination seems to be based on the area code of the phone number.\n",
    "- Activity over a day, week, or month.\n",
    "\n",
    "#### Talk\n",
    "- A weighted graph showing calls between phone numbers (people) and time talking.\n",
    "- A graph between me and identifiable phone numbers, outgoing.\n",
    "- A graph between me and identifiable phone numbers, incoming."
   ]
  },
  {
   "cell_type": "code",
   "execution_count": 10,
   "metadata": {
    "scrolled": true
   },
   "outputs": [
    {
     "data": {
      "text/plain": [
       "Index(['index', 'Date and time', 'MB'], dtype='object')"
      ]
     },
     "execution_count": 10,
     "metadata": {},
     "output_type": "execute_result"
    },
    {
     "name": "stdout",
     "output_type": "stream",
     "text": [
      "0\n",
      "0\n",
      "0\n"
     ]
    }
   ],
   "source": [
    "data.columns\n",
    "for column in data.columns:\n",
    "    try:\n",
    "        data[column].value_counts()['-']\n",
    "    except KeyError:\n",
    "        print(0)"
   ]
  },
  {
   "cell_type": "markdown",
   "metadata": {},
   "source": [
    "- [x] TODO: text['Destination'] contains 629 '-'.  \n",
    "- [x] TODO: phone numbers need to be normalized.  \n",
    "- [x] TODO: destination needs to be normalized."
   ]
  },
  {
   "cell_type": "code",
   "execution_count": 11,
   "metadata": {
    "collapsed": true
   },
   "outputs": [],
   "source": [
    "#  Worth noting that area codes will never begin with 1.\n",
    "phone_number_re = re.compile(r'''1?(-|\\s|\\.)?(\\d{3}|\\(\\d{3}\\))(-|\\s|\\.)?\\d{3}(-|\\s|\\.)?\\d{4}''', re.VERBOSE)\n",
    "phone_str = r'1?(-|\\s|\\.)?(\\d{3}|\\(\\d{3}\\))(-|\\s|\\.)?\\d{3}(-|\\s|\\.)?\\d{4}'\n",
    "destination_re = re.compile(r'(\\w), (\\w)')\n",
    "destination_str = r'([\\w\\s]+), (\\w+)'"
   ]
  },
  {
   "cell_type": "code",
   "execution_count": 12,
   "metadata": {
    "collapsed": true
   },
   "outputs": [],
   "source": [
    "text_num_bool = text['Number'].str.match(phone_str)\n",
    "text_dest_bool = text['Destination'].str.match(destination_str)\n",
    "talk_num_bool = talk['Number'].str.match(phone_str)"
   ]
  },
  {
   "cell_type": "code",
   "execution_count": 13,
   "metadata": {
    "collapsed": true,
    "scrolled": true
   },
   "outputs": [],
   "source": [
    "dest_negatives = text[text_dest_bool == False]['Destination'].value_counts()\n",
    "text_negatives = text[text_num_bool == False]['Number'].value_counts()\n",
    "talk_negatives = talk[talk_num_bool == False]['Number'].value_counts()"
   ]
  },
  {
   "cell_type": "code",
   "execution_count": 14,
   "metadata": {
    "collapsed": true
   },
   "outputs": [],
   "source": [
    "def format_phone(number):\n",
    "    numb = number.string\n",
    "    if numb[0] == '1':\n",
    "        numb = numb[1:]\n",
    "    return '({}) {}-{}'.format(numb[:3], numb[3:6], numb[6:])"
   ]
  },
  {
   "cell_type": "code",
   "execution_count": 15,
   "metadata": {
    "collapsed": true,
    "scrolled": true
   },
   "outputs": [],
   "source": [
    "text_norm_numbers = text[text_num_bool == True]['Number'].str.replace(r'\\d{10,11}', format_phone)\n",
    "talk_norm_numbers = talk[talk_num_bool == True]['Number'].str.replace(r'\\d{10,11}', format_phone)"
   ]
  },
  {
   "cell_type": "code",
   "execution_count": 16,
   "metadata": {
    "collapsed": true,
    "scrolled": false
   },
   "outputs": [],
   "source": [
    "final_text = text[text_num_bool == True]\n",
    "final_text = final_text[final_text['Destination'].str.match(destination_str) == True]\n",
    "final_talk = talk[talk_num_bool == True]"
   ]
  },
  {
   "cell_type": "code",
   "execution_count": 17,
   "metadata": {
    "scrolled": true
   },
   "outputs": [
    {
     "name": "stderr",
     "output_type": "stream",
     "text": [
      "SettingWithCopyWarning: \n",
      "A value is trying to be set on a copy of a slice from a DataFrame.\n",
      "Try using .loc[row_indexer,col_indexer] = value instead\n",
      "\n",
      "See the caveats in the documentation: http://pandas.pydata.org/pandas-docs/stable/indexing.html#indexing-view-versus-copy [ipykernel_launcher.py:2]\n"
     ]
    }
   ],
   "source": [
    "final_text['Number'] = final_text['Number'].str.replace(r'\\d{10,11}', format_phone)\n",
    "final_talk['Number'] = final_talk['Number'].str.replace(r'\\d{10,11}', format_phone)"
   ]
  },
  {
   "cell_type": "markdown",
   "metadata": {},
   "source": [
    "### Initial Analysis\n",
    "\n",
    "#### Data:\n",
    "The data information is not suitable for a graph data structure. I think it would be interesting to visualize it using bar or line graphs to measure activity over time. Some questions that could be answered are:\n",
    "\n",
    "- Which days am I more active?\n",
    "- Which times throughout the day am I more active?\n",
    "- What's different about days that there is more data consumption via T-Mobile's data services vice wifi?\n",
    "- How has my consumption changed over time?\n",
    "\n",
    "It's worth noting that this doesn't measure my total internet activity. It is merely seeing my data consumption through T-Mobile services. This leads to some additional inquiries:\n",
    "\n",
    "- Does my phone track data consumption over time?\n",
    "- Does Comcast track my data consumption at home and is it available to me?\n",
    "\n",
    "#### Talk:\n",
    "The are several angles to take with this data set, and much of it will be similar to __Text__. First, the graph data structure. I'd be interested in seeing total incoming and outgoing calls between me and all other nodes over the entire time period available. It could then be split into just incoming calls and just outgoing calls. I could make a dictionary of all known or easily identifiable phone numbers and make the nodes names of contacts rather than numbers. As far as node/edge weights, there's two things to consider: call frequency and call duration. This distinction is important because duration/frequency represent different measures of significance of a given contact. For example, I may have hundreds of calls to Melissa, but we usually only talk briefly to discuss logistical stuff because we are so heavily involved in each other's lives. However, I have much longer calls to my mother because she lives far away (and loves to talk). This may be a visualization problem. \n",
    "\n",
    "#### Text:\n",
    "All the same problems of talk apply to text with exception of call duration. In addition, we know have an opportunity to graph the nodes by location (The phone number's area code really). So we could make the graph just like __Talk__. Thinking about it further, the destination isn't useful at all. Many contacts will have no affiliation (anymore) with the area code from which they first received their phone number. I think the use in the Destination column would be to have other data available by which we could compare people's actual location to the destination logged by T-Mobile.\n",
    "\n",
    "### Additional things I'd like to do.\n",
    "Looking at __Talk__, I think it would be smart to do the following:\n",
    "\n",
    "For the graph:\n",
    "\n",
    "- We won't care about the date and time.\n",
    "- Divide the table into incoming and outgoing.\n",
    "- Group by number, sum the minutes for each number, and add a 'Frequency' (Count) column to each number.\n",
    "\n",
    "- Make a seperate graph that ignores the 'Description' distinction.\n",
    "\n",
    "Visualization:\n",
    "\n",
    "- I don't think it would be productive to get too granular into the time (for now), so we can further split the data weeks and months. \n",
    "- Choose the top ten most called numbers and make histograms by week and month (total, outgoing, and incoming, each). \n",
    "- Do the same as above except with call duration ('Min').\n",
    "\n",
    "__Text__:\n",
    "\n",
    "- Same for __Talk__, but there will be no 'Min' sum.\n",
    "\n",
    "__Data__:\n",
    "\n",
    "- See above for guidance.\n",
    "\n",
    "### Other thoughts:\n",
    "\n",
    "- I'd like to adapt the weighted graph we made in school for this project. Two issues arise with this: - It inherits from dict, thus I'd rather have it be a composition of a dict so we don't methods available that could screw up the graph. - I need to have a better understanding of graph databases to understand how this would work. \n",
    "\n",
    "- This graph is going to be one node(me) with a ton of leaves(my contacts). To really make this a better product, I should think about obtaining my girlfriend's bill as well as my parents. That will really make this more interesting."
   ]
  },
  {
   "cell_type": "code",
   "execution_count": 18,
   "metadata": {
    "scrolled": true
   },
   "outputs": [
    {
     "data": {
      "text/html": [
       "<div>\n",
       "<style>\n",
       "    .dataframe thead tr:only-child th {\n",
       "        text-align: right;\n",
       "    }\n",
       "\n",
       "    .dataframe thead th {\n",
       "        text-align: left;\n",
       "    }\n",
       "\n",
       "    .dataframe tbody tr th {\n",
       "        vertical-align: top;\n",
       "    }\n",
       "</style>\n",
       "<table border=\"1\" class=\"dataframe\">\n",
       "  <thead>\n",
       "    <tr style=\"text-align: right;\">\n",
       "      <th></th>\n",
       "      <th>index</th>\n",
       "      <th>Date and time</th>\n",
       "      <th>Description</th>\n",
       "      <th>Min</th>\n",
       "      <th>Number</th>\n",
       "    </tr>\n",
       "  </thead>\n",
       "  <tbody>\n",
       "    <tr>\n",
       "      <th>0</th>\n",
       "      <td>0</td>\n",
       "      <td>2016-04-19 10:01:00</td>\n",
       "      <td>to GRAND PRAR/TX</td>\n",
       "      <td>1</td>\n",
       "      <td>(469) 531-9999</td>\n",
       "    </tr>\n",
       "    <tr>\n",
       "      <th>1</th>\n",
       "      <td>1</td>\n",
       "      <td>2016-04-19 11:53:00</td>\n",
       "      <td>to AUBURN/AL</td>\n",
       "      <td>7</td>\n",
       "      <td>(334) 728-0615</td>\n",
       "    </tr>\n",
       "    <tr>\n",
       "      <th>2</th>\n",
       "      <td>2</td>\n",
       "      <td>2016-04-19 15:32:00</td>\n",
       "      <td>to AUBURN/AL</td>\n",
       "      <td>14</td>\n",
       "      <td>(334) 728-0615</td>\n",
       "    </tr>\n",
       "    <tr>\n",
       "      <th>3</th>\n",
       "      <td>3</td>\n",
       "      <td>2016-04-20 06:30:00</td>\n",
       "      <td>Incoming</td>\n",
       "      <td>7</td>\n",
       "      <td>(334) 728-0615</td>\n",
       "    </tr>\n",
       "    <tr>\n",
       "      <th>4</th>\n",
       "      <td>4</td>\n",
       "      <td>2016-04-20 06:48:00</td>\n",
       "      <td>to OPELIKA/AL</td>\n",
       "      <td>7</td>\n",
       "      <td>(334) 559-0212</td>\n",
       "    </tr>\n",
       "  </tbody>\n",
       "</table>\n",
       "</div>"
      ],
      "text/plain": [
       "   index       Date and time       Description  Min          Number\n",
       "0      0 2016-04-19 10:01:00  to GRAND PRAR/TX    1  (469) 531-9999\n",
       "1      1 2016-04-19 11:53:00      to AUBURN/AL    7  (334) 728-0615\n",
       "2      2 2016-04-19 15:32:00      to AUBURN/AL   14  (334) 728-0615\n",
       "3      3 2016-04-20 06:30:00          Incoming    7  (334) 728-0615\n",
       "4      4 2016-04-20 06:48:00     to OPELIKA/AL    7  (334) 559-0212"
      ]
     },
     "execution_count": 18,
     "metadata": {},
     "output_type": "execute_result"
    }
   ],
   "source": [
    "final_talk.head()"
   ]
  },
  {
   "cell_type": "code",
   "execution_count": 19,
   "metadata": {
    "scrolled": true
   },
   "outputs": [
    {
     "data": {
      "text/html": [
       "<div>\n",
       "<style>\n",
       "    .dataframe thead tr:only-child th {\n",
       "        text-align: right;\n",
       "    }\n",
       "\n",
       "    .dataframe thead th {\n",
       "        text-align: left;\n",
       "    }\n",
       "\n",
       "    .dataframe tbody tr th {\n",
       "        vertical-align: top;\n",
       "    }\n",
       "</style>\n",
       "<table border=\"1\" class=\"dataframe\">\n",
       "  <thead>\n",
       "    <tr style=\"text-align: right;\">\n",
       "      <th></th>\n",
       "      <th>index</th>\n",
       "      <th>Date and time</th>\n",
       "      <th>Destination</th>\n",
       "      <th>Direction</th>\n",
       "      <th>Number</th>\n",
       "      <th>Type</th>\n",
       "    </tr>\n",
       "  </thead>\n",
       "  <tbody>\n",
       "    <tr>\n",
       "      <th>0</th>\n",
       "      <td>0</td>\n",
       "      <td>2016-04-19 12:14:00</td>\n",
       "      <td>Auburn, AL</td>\n",
       "      <td>Incoming</td>\n",
       "      <td>(334) 703-1602</td>\n",
       "      <td>Text</td>\n",
       "    </tr>\n",
       "    <tr>\n",
       "      <th>1</th>\n",
       "      <td>1</td>\n",
       "      <td>2016-04-19 12:14:00</td>\n",
       "      <td>Auburn, AL</td>\n",
       "      <td>Incoming</td>\n",
       "      <td>(334) 703-1602</td>\n",
       "      <td>Text</td>\n",
       "    </tr>\n",
       "    <tr>\n",
       "      <th>2</th>\n",
       "      <td>2</td>\n",
       "      <td>2016-04-19 12:59:00</td>\n",
       "      <td>Auburn, AL</td>\n",
       "      <td>Outgoing</td>\n",
       "      <td>(334) 703-1602</td>\n",
       "      <td>Text</td>\n",
       "    </tr>\n",
       "    <tr>\n",
       "      <th>3</th>\n",
       "      <td>3</td>\n",
       "      <td>2016-04-19 13:02:00</td>\n",
       "      <td>Auburn, AL</td>\n",
       "      <td>Incoming</td>\n",
       "      <td>(334) 703-1602</td>\n",
       "      <td>Text</td>\n",
       "    </tr>\n",
       "    <tr>\n",
       "      <th>4</th>\n",
       "      <td>4</td>\n",
       "      <td>2016-04-19 13:22:00</td>\n",
       "      <td>Auburn, AL</td>\n",
       "      <td>Incoming</td>\n",
       "      <td>(334) 703-1602</td>\n",
       "      <td>Text</td>\n",
       "    </tr>\n",
       "  </tbody>\n",
       "</table>\n",
       "</div>"
      ],
      "text/plain": [
       "   index       Date and time Destination Direction          Number  Type\n",
       "0      0 2016-04-19 12:14:00  Auburn, AL  Incoming  (334) 703-1602  Text\n",
       "1      1 2016-04-19 12:14:00  Auburn, AL  Incoming  (334) 703-1602  Text\n",
       "2      2 2016-04-19 12:59:00  Auburn, AL  Outgoing  (334) 703-1602  Text\n",
       "3      3 2016-04-19 13:02:00  Auburn, AL  Incoming  (334) 703-1602  Text\n",
       "4      4 2016-04-19 13:22:00  Auburn, AL  Incoming  (334) 703-1602  Text"
      ]
     },
     "execution_count": 19,
     "metadata": {},
     "output_type": "execute_result"
    }
   ],
   "source": [
    "final_text.head()"
   ]
  },
  {
   "cell_type": "markdown",
   "metadata": {},
   "source": [
    "#### Graph Details\n",
    "\n",
    "- Nodes = 'Number': Talk, Text\n",
    "- Relationships = 'Call' and 'Text' ('Direction' denotes direction in the graph)\n",
    "- Properties = \n",
    "    - We'll add a 'Count' property to both relationships to capture the frequency of a relationship between nodes\n",
    "    - We'll add a list of call durations for 'Call' relationship between nodes\n",
    "    - For the more common call recipients, give them proper names rather than numbers and add the appropriate relationship between them (Melissa -> girlfriend -> Kurt)\n",
    "\n"
   ]
  },
  {
   "cell_type": "code",
   "execution_count": 37,
   "metadata": {},
   "outputs": [
    {
     "ename": "TypeError",
     "evalue": "only integer scalar arrays can be converted to a scalar index",
     "output_type": "error",
     "traceback": [
      "\u001b[1;31m---------------------------------------------------------------------------\u001b[0m",
      "\u001b[1;31mTypeError\u001b[0m                                 Traceback (most recent call last)",
      "\u001b[1;32m<ipython-input-37-070bee4e43f1>\u001b[0m in \u001b[0;36m<module>\u001b[1;34m()\u001b[0m\n\u001b[0;32m      1\u001b[0m \u001b[0mconcated\u001b[0m \u001b[1;33m=\u001b[0m \u001b[1;32mNone\u001b[0m\u001b[1;33m\u001b[0m\u001b[0m\n\u001b[1;32m----> 2\u001b[1;33m \u001b[0mnp\u001b[0m\u001b[1;33m.\u001b[0m\u001b[0mconcatenate\u001b[0m\u001b[1;33m(\u001b[0m\u001b[0mconcated\u001b[0m\u001b[1;33m,\u001b[0m \u001b[0mtalk\u001b[0m\u001b[1;33m[\u001b[0m\u001b[1;34m'Number'\u001b[0m\u001b[1;33m]\u001b[0m\u001b[1;33m.\u001b[0m\u001b[0mvalues\u001b[0m\u001b[1;33m)\u001b[0m\u001b[1;33m\u001b[0m\u001b[0m\n\u001b[0m",
      "\u001b[1;31mTypeError\u001b[0m: only integer scalar arrays can be converted to a scalar index"
     ]
    }
   ],
   "source": [
    "concated = None\n",
    "np.concatenate(concated, talk['Number'].values)"
   ]
  },
  {
   "cell_type": "code",
   "execution_count": 38,
   "metadata": {
    "collapsed": true
   },
   "outputs": [],
   "source": [
    "def get_nodes(*args):\n",
    "    for arg in args:\n",
    "        try:\n",
    "            yield arg.values\n",
    "        except AttributeError:\n",
    "            yield arg\n",
    "\n",
    "def unique_and_concat(gen):\n",
    "    concated = None\n",
    "    for array in gen:\n",
    "        try:\n",
    "            uniq = np.unique(array)\n",
    "            conated = np.concatenate(concated, uniq)\n",
    "        except TypeError:\n",
    "            concated = np.unique(array)\n",
    "    return concated      "
   ]
  },
  {
   "cell_type": "code",
   "execution_count": 44,
   "metadata": {
    "collapsed": true
   },
   "outputs": [],
   "source": [
    "nodes = get_nodes(final_talk['Number'], final_text['Number'])\n",
    "\n",
    "concated = unique_and_concat(nodes)"
   ]
  },
  {
   "cell_type": "code",
   "execution_count": 45,
   "metadata": {},
   "outputs": [
    {
     "data": {
      "text/plain": [
       "array(['(205) 563-2792', '(206) 331-7400', '(206) 377-9229',\n",
       "       '(206) 496-5990', '(206) 502-0648', '(206) 519-4098',\n",
       "       '(206) 539-1923', '(206) 552-8571', '(206) 639-0399',\n",
       "       '(206) 661-2015', '(206) 817-4110', '(206) 979-0306',\n",
       "       '(210) 286-6194', '(213) 279-6896', '(213) 806-6513',\n",
       "       '(253) 228-8448', '(253) 228-9150', '(253) 335-5694',\n",
       "       '(253) 666-5917', '(256) 333-1415', '(267) 767-9633',\n",
       "       '(302) 520-1087', '(302) 607-8313', '(310) 210-0536',\n",
       "       '(310) 954-9570', '(313) 399-3973', '(315) 415-5863',\n",
       "       '(316) 776-4785', '(317) 432-3506', '(334) 268-9366',\n",
       "       '(334) 329-9715', '(334) 434-2143', '(334) 524-4236',\n",
       "       '(334) 559-0212', '(334) 559-2958', '(334) 703-1602',\n",
       "       '(334) 728-0615', '(352) 224-9398', '(352) 682-4897',\n",
       "       '(360) 508-7520', '(386) 265-3895', '(401) 682-7608',\n",
       "       '(404) 455-0044', '(404) 455-0048', '(406) 212-1749',\n",
       "       '(406) 679-1390', '(407) 432-4135', '(409) 781-7925',\n",
       "       '(413) 338-8562', '(415) 408-5679', '(415) 599-4101',\n",
       "       '(415) 727-6703', '(417) 844-7339', '(425) 329-9876',\n",
       "       '(425) 443-9605', '(425) 444-5196', '(425) 533-7109',\n",
       "       '(425) 985-1012', '(440) 829-9865', '(458) 203-7105',\n",
       "       '(470) 774-9728', '(475) 343-3028', '(479) 883-0862',\n",
       "       '(484) 369-6234', '(509) 434-6614', '(520) 447-3478',\n",
       "       '(559) 471-6113', '(570) 267-5289', '(571) 699-7588',\n",
       "       '(573) 239-2090', '(573) 864-5068', '(574) 444-5440',\n",
       "       '(603) 733-9031', '(619) 734-7289', '(646) 418-3301',\n",
       "       '(646) 480-7240', '(647) 931-5334', '(650) 209-6167',\n",
       "       '(682) 582-5416', '(701) 771-2288', '(703) 987-3167',\n",
       "       '(724) 989-0296', '(732) 705-1575', '(757) 292-0819',\n",
       "       '(757) 439-1407', '(757) 439-4180', '(772) 473-1888',\n",
       "       '(775) 772-4786', '(805) 310-4614', '(806) 786-2801',\n",
       "       '(808) 895-7253', '(810) 272-5329', '(813) 310-3798',\n",
       "       '(813) 639-8902', '(813) 846-1663', '(832) 367-4886',\n",
       "       '(832) 671-6190', '(847) 508-5468', '(848) 404-1923',\n",
       "       '(859) 221-9542', '(901) 830-0041', '(904) 228-9422',\n",
       "       '(904) 314-2499', '(904) 844-1772', '(904) 982-7355',\n",
       "       '(912) 266-0568', '(917) 855-0106', '(925) 360-5153',\n",
       "       '(928) 287-1145', '(973) 419-6864'], dtype=object)"
      ]
     },
     "execution_count": 45,
     "metadata": {},
     "output_type": "execute_result"
    }
   ],
   "source": [
    "concated"
   ]
  },
  {
   "cell_type": "code",
   "execution_count": null,
   "metadata": {
    "collapsed": true
   },
   "outputs": [],
   "source": []
  }
 ],
 "metadata": {
  "kernelspec": {
   "display_name": "Python 3",
   "language": "python",
   "name": "python3"
  },
  "language_info": {
   "codemirror_mode": {
    "name": "ipython",
    "version": 3
   },
   "file_extension": ".py",
   "mimetype": "text/x-python",
   "name": "python",
   "nbconvert_exporter": "python",
   "pygments_lexer": "ipython3",
   "version": "3.6.3"
  }
 },
 "nbformat": 4,
 "nbformat_minor": 2
}
