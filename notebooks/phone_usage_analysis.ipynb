{
 "cells": [
  {
   "cell_type": "markdown",
   "metadata": {},
   "source": [
    "## Communication Graph\n",
    "\n",
    "This notebook is dedicated to exploration and pattern finding in my cell phone bills which are in PDF formats. The ultimate goal is to make a graph out of it.\n",
    "\n",
    "After developing a pattern, I'll make a function or a class to do everything for me.\n",
    "\n",
    "#### Exploration and Pattern Finding\n",
    "\n",
    "The first section is just exploration."
   ]
  },
  {
   "cell_type": "code",
   "execution_count": 1,
   "metadata": {
    "scrolled": true
   },
   "outputs": [],
   "source": [
    "# Set up.\n",
    "%matplotlib inline\n",
    "\n",
    "from IPython.core.interactiveshell import InteractiveShell\n",
    "InteractiveShell.ast_node_interactivity = 'all'\n",
    "\n",
    "import matplotlib as plt\n",
    "import numpy as np\n",
    "import os\n",
    "import pandas as pd\n",
    "import seaborn\n",
    "import PyPDF2\n",
    "\n",
    "from tmobile_bill_parser import (\n",
    "    parse_bill,\n",
    "    parse_multiple_bills\n",
    ")"
   ]
  },
  {
   "cell_type": "code",
   "execution_count": 2,
   "metadata": {},
   "outputs": [],
   "source": [
    "bill_directory = parse_multiple_bills('bills')"
   ]
  },
  {
   "cell_type": "markdown",
   "metadata": {},
   "source": [
    "### Introduction\n",
    "\n",
    "- [ ] Make all data the proper datatype.\n",
    "- [ ] Separate destination into city and state.\n",
    "- [ ] Numbers must be in roughly the same format.\n",
    "- [x] Treat Text, Data, and Talk as separate tables or graphs."
   ]
  },
  {
   "cell_type": "code",
   "execution_count": 3,
   "metadata": {
    "scrolled": true
   },
   "outputs": [],
   "source": [
    "text_dfs = [pd.DataFrame(bill_directory[bill_period]['Text']) for bill_period in bill_directory]\n",
    "data_dfs = [pd.DataFrame(bill_directory[bill_period]['Data']) for bill_period in bill_directory]\n",
    "talk_dfs = [pd.DataFrame(bill_directory[bill_period]['Talk']) for bill_period in bill_directory]\n",
    "\n",
    "text_df = pd.concat(text_dfs).reset_index()\n",
    "data_df = pd.concat(data_dfs).reset_index()\n",
    "talk_df = pd.concat(talk_dfs).reset_index()"
   ]
  },
  {
   "cell_type": "code",
   "execution_count": 6,
   "metadata": {},
   "outputs": [
    {
     "data": {
      "text/plain": [
       "-    14526\n",
       "Name: Amount, dtype: int64"
      ]
     },
     "execution_count": 6,
     "metadata": {},
     "output_type": "execute_result"
    }
   ],
   "source": [
    "text_df['Amount'].value_counts()\n",
    "text = text_df.drop(['Amount'], axis=1)"
   ]
  },
  {
   "cell_type": "code",
   "execution_count": 7,
   "metadata": {
    "scrolled": true
   },
   "outputs": [
    {
     "name": "stdout",
     "output_type": "stream",
     "text": [
      "<class 'pandas.core.frame.DataFrame'>\n",
      "RangeIndex: 4632 entries, 0 to 4631\n",
      "Data columns (total 7 columns):\n",
      "index            4632 non-null int64\n",
      "Amount           4632 non-null object\n",
      "Date and time    4632 non-null object\n",
      "MB               4632 non-null object\n",
      "Origin           4632 non-null object\n",
      "Service          4632 non-null object\n",
      "Type             4632 non-null object\n",
      "dtypes: int64(1), object(6)\n",
      "memory usage: 253.4+ KB\n"
     ]
    },
    {
     "data": {
      "text/html": [
       "<div>\n",
       "<style>\n",
       "    .dataframe thead tr:only-child th {\n",
       "        text-align: right;\n",
       "    }\n",
       "\n",
       "    .dataframe thead th {\n",
       "        text-align: left;\n",
       "    }\n",
       "\n",
       "    .dataframe tbody tr th {\n",
       "        vertical-align: top;\n",
       "    }\n",
       "</style>\n",
       "<table border=\"1\" class=\"dataframe\">\n",
       "  <thead>\n",
       "    <tr style=\"text-align: right;\">\n",
       "      <th></th>\n",
       "      <th>index</th>\n",
       "      <th>Amount</th>\n",
       "      <th>Date and time</th>\n",
       "      <th>MB</th>\n",
       "      <th>Origin</th>\n",
       "      <th>Service</th>\n",
       "      <th>Type</th>\n",
       "    </tr>\n",
       "  </thead>\n",
       "  <tbody>\n",
       "    <tr>\n",
       "      <th>0</th>\n",
       "      <td>0</td>\n",
       "      <td>-</td>\n",
       "      <td>12/19/16, 2:11 AM</td>\n",
       "      <td>0.0087</td>\n",
       "      <td>-</td>\n",
       "      <td>Mobile Internet</td>\n",
       "      <td>-</td>\n",
       "    </tr>\n",
       "    <tr>\n",
       "      <th>1</th>\n",
       "      <td>1</td>\n",
       "      <td>-</td>\n",
       "      <td>12/19/16, 6:01 AM</td>\n",
       "      <td>0.0097</td>\n",
       "      <td>-</td>\n",
       "      <td>Mobile Internet</td>\n",
       "      <td>-</td>\n",
       "    </tr>\n",
       "    <tr>\n",
       "      <th>2</th>\n",
       "      <td>2</td>\n",
       "      <td>-</td>\n",
       "      <td>12/19/16, 7:04 AM</td>\n",
       "      <td>0.4482</td>\n",
       "      <td>-</td>\n",
       "      <td>Mobile Internet</td>\n",
       "      <td>-</td>\n",
       "    </tr>\n",
       "    <tr>\n",
       "      <th>3</th>\n",
       "      <td>3</td>\n",
       "      <td>-</td>\n",
       "      <td>12/19/16, 8:28 AM</td>\n",
       "      <td>0.0185</td>\n",
       "      <td>-</td>\n",
       "      <td>Mobile Internet</td>\n",
       "      <td>-</td>\n",
       "    </tr>\n",
       "    <tr>\n",
       "      <th>4</th>\n",
       "      <td>4</td>\n",
       "      <td>-</td>\n",
       "      <td>12/19/16, 11:33 AM</td>\n",
       "      <td>0.0097</td>\n",
       "      <td>-</td>\n",
       "      <td>Mobile Internet</td>\n",
       "      <td>-</td>\n",
       "    </tr>\n",
       "  </tbody>\n",
       "</table>\n",
       "</div>"
      ],
      "text/plain": [
       "   index Amount       Date and time      MB Origin          Service Type\n",
       "0      0      -   12/19/16, 2:11 AM  0.0087      -  Mobile Internet    -\n",
       "1      1      -   12/19/16, 6:01 AM  0.0097      -  Mobile Internet    -\n",
       "2      2      -   12/19/16, 7:04 AM  0.4482      -  Mobile Internet    -\n",
       "3      3      -   12/19/16, 8:28 AM  0.0185      -  Mobile Internet    -\n",
       "4      4      -  12/19/16, 11:33 AM  0.0097      -  Mobile Internet    -"
      ]
     },
     "execution_count": 7,
     "metadata": {},
     "output_type": "execute_result"
    }
   ],
   "source": [
    "data_df.info()\n",
    "data_df.head()\n",
    "data = data_df.drop(['Amount', 'Origin', 'Type', 'Service'], axis=1)"
   ]
  },
  {
   "cell_type": "code",
   "execution_count": 8,
   "metadata": {},
   "outputs": [
    {
     "data": {
      "text/plain": [
       "-    1774\n",
       "Name: Amount, dtype: int64"
      ]
     },
     "execution_count": 8,
     "metadata": {},
     "output_type": "execute_result"
    }
   ],
   "source": [
    "talk_df['Amount'].value_counts()\n",
    "talk = talk_df.drop(['Amount', 'Type'], axis=1)"
   ]
  },
  {
   "cell_type": "code",
   "execution_count": 27,
   "metadata": {},
   "outputs": [
    {
     "data": {
      "text/html": [
       "<div>\n",
       "<style>\n",
       "    .dataframe thead tr:only-child th {\n",
       "        text-align: right;\n",
       "    }\n",
       "\n",
       "    .dataframe thead th {\n",
       "        text-align: left;\n",
       "    }\n",
       "\n",
       "    .dataframe tbody tr th {\n",
       "        vertical-align: top;\n",
       "    }\n",
       "</style>\n",
       "<table border=\"1\" class=\"dataframe\">\n",
       "  <thead>\n",
       "    <tr style=\"text-align: right;\">\n",
       "      <th></th>\n",
       "      <th>index</th>\n",
       "      <th>Date and time</th>\n",
       "      <th>Description</th>\n",
       "      <th>Min</th>\n",
       "      <th>Number</th>\n",
       "    </tr>\n",
       "  </thead>\n",
       "  <tbody>\n",
       "    <tr>\n",
       "      <th>0</th>\n",
       "      <td>0</td>\n",
       "      <td>2016-12-19 07:19:00</td>\n",
       "      <td>Incoming</td>\n",
       "      <td>8</td>\n",
       "      <td>(334) 703-1602</td>\n",
       "    </tr>\n",
       "    <tr>\n",
       "      <th>1</th>\n",
       "      <td>1</td>\n",
       "      <td>2016-12-19 07:32:00</td>\n",
       "      <td>Incoming</td>\n",
       "      <td>1</td>\n",
       "      <td>(334) 833-1465</td>\n",
       "    </tr>\n",
       "    <tr>\n",
       "      <th>2</th>\n",
       "      <td>2</td>\n",
       "      <td>2016-12-19 08:11:00</td>\n",
       "      <td>Incoming</td>\n",
       "      <td>1</td>\n",
       "      <td>(205) 225-9848</td>\n",
       "    </tr>\n",
       "    <tr>\n",
       "      <th>3</th>\n",
       "      <td>3</td>\n",
       "      <td>2016-12-19 08:29:00</td>\n",
       "      <td>Incoming</td>\n",
       "      <td>33</td>\n",
       "      <td>(334) 728-0615</td>\n",
       "    </tr>\n",
       "    <tr>\n",
       "      <th>4</th>\n",
       "      <td>4</td>\n",
       "      <td>2016-12-19 13:01:00</td>\n",
       "      <td>Incoming</td>\n",
       "      <td>22</td>\n",
       "      <td>(415) 727-6703</td>\n",
       "    </tr>\n",
       "  </tbody>\n",
       "</table>\n",
       "</div>"
      ],
      "text/plain": [
       "   index       Date and time Description Min          Number\n",
       "0      0 2016-12-19 07:19:00    Incoming   8  (334) 703-1602\n",
       "1      1 2016-12-19 07:32:00    Incoming   1  (334) 833-1465\n",
       "2      2 2016-12-19 08:11:00    Incoming   1  (205) 225-9848\n",
       "3      3 2016-12-19 08:29:00    Incoming  33  (334) 728-0615\n",
       "4      4 2016-12-19 13:01:00    Incoming  22  (415) 727-6703"
      ]
     },
     "execution_count": 27,
     "metadata": {},
     "output_type": "execute_result"
    },
    {
     "data": {
      "text/html": [
       "<div>\n",
       "<style>\n",
       "    .dataframe thead tr:only-child th {\n",
       "        text-align: right;\n",
       "    }\n",
       "\n",
       "    .dataframe thead th {\n",
       "        text-align: left;\n",
       "    }\n",
       "\n",
       "    .dataframe tbody tr th {\n",
       "        vertical-align: top;\n",
       "    }\n",
       "</style>\n",
       "<table border=\"1\" class=\"dataframe\">\n",
       "  <thead>\n",
       "    <tr style=\"text-align: right;\">\n",
       "      <th></th>\n",
       "      <th>index</th>\n",
       "      <th>Date and time</th>\n",
       "      <th>Destination</th>\n",
       "      <th>Direction</th>\n",
       "      <th>Number</th>\n",
       "      <th>Type</th>\n",
       "    </tr>\n",
       "  </thead>\n",
       "  <tbody>\n",
       "    <tr>\n",
       "      <th>0</th>\n",
       "      <td>0</td>\n",
       "      <td>2016-12-19 07:11:00</td>\n",
       "      <td>Auburn, AL</td>\n",
       "      <td>Incoming</td>\n",
       "      <td>(334) 703-1602</td>\n",
       "      <td>Text</td>\n",
       "    </tr>\n",
       "    <tr>\n",
       "      <th>1</th>\n",
       "      <td>1</td>\n",
       "      <td>2016-12-19 07:14:00</td>\n",
       "      <td>Auburn, AL</td>\n",
       "      <td>Outgoing</td>\n",
       "      <td>(334) 703-1602</td>\n",
       "      <td>Text</td>\n",
       "    </tr>\n",
       "    <tr>\n",
       "      <th>2</th>\n",
       "      <td>2</td>\n",
       "      <td>2016-12-19 07:15:00</td>\n",
       "      <td>Auburn, AL</td>\n",
       "      <td>Incoming</td>\n",
       "      <td>(334) 703-1602</td>\n",
       "      <td>Text</td>\n",
       "    </tr>\n",
       "    <tr>\n",
       "      <th>3</th>\n",
       "      <td>3</td>\n",
       "      <td>2016-12-19 07:17:00</td>\n",
       "      <td>Auburn, AL</td>\n",
       "      <td>Outgoing</td>\n",
       "      <td>(334) 703-1602</td>\n",
       "      <td>Text</td>\n",
       "    </tr>\n",
       "    <tr>\n",
       "      <th>4</th>\n",
       "      <td>4</td>\n",
       "      <td>2016-12-19 08:41:00</td>\n",
       "      <td>-</td>\n",
       "      <td>Incoming</td>\n",
       "      <td>13347031602</td>\n",
       "      <td>Picture</td>\n",
       "    </tr>\n",
       "  </tbody>\n",
       "</table>\n",
       "</div>"
      ],
      "text/plain": [
       "   index       Date and time Destination Direction          Number     Type\n",
       "0      0 2016-12-19 07:11:00  Auburn, AL  Incoming  (334) 703-1602     Text\n",
       "1      1 2016-12-19 07:14:00  Auburn, AL  Outgoing  (334) 703-1602     Text\n",
       "2      2 2016-12-19 07:15:00  Auburn, AL  Incoming  (334) 703-1602     Text\n",
       "3      3 2016-12-19 07:17:00  Auburn, AL  Outgoing  (334) 703-1602     Text\n",
       "4      4 2016-12-19 08:41:00           -  Incoming     13347031602  Picture"
      ]
     },
     "execution_count": 27,
     "metadata": {},
     "output_type": "execute_result"
    },
    {
     "data": {
      "text/html": [
       "<div>\n",
       "<style>\n",
       "    .dataframe thead tr:only-child th {\n",
       "        text-align: right;\n",
       "    }\n",
       "\n",
       "    .dataframe thead th {\n",
       "        text-align: left;\n",
       "    }\n",
       "\n",
       "    .dataframe tbody tr th {\n",
       "        vertical-align: top;\n",
       "    }\n",
       "</style>\n",
       "<table border=\"1\" class=\"dataframe\">\n",
       "  <thead>\n",
       "    <tr style=\"text-align: right;\">\n",
       "      <th></th>\n",
       "      <th>index</th>\n",
       "      <th>Date and time</th>\n",
       "      <th>MB</th>\n",
       "    </tr>\n",
       "  </thead>\n",
       "  <tbody>\n",
       "    <tr>\n",
       "      <th>0</th>\n",
       "      <td>0</td>\n",
       "      <td>2016-12-19 02:11:00</td>\n",
       "      <td>0.0087</td>\n",
       "    </tr>\n",
       "    <tr>\n",
       "      <th>1</th>\n",
       "      <td>1</td>\n",
       "      <td>2016-12-19 06:01:00</td>\n",
       "      <td>0.0097</td>\n",
       "    </tr>\n",
       "    <tr>\n",
       "      <th>2</th>\n",
       "      <td>2</td>\n",
       "      <td>2016-12-19 07:04:00</td>\n",
       "      <td>0.4482</td>\n",
       "    </tr>\n",
       "    <tr>\n",
       "      <th>3</th>\n",
       "      <td>3</td>\n",
       "      <td>2016-12-19 08:28:00</td>\n",
       "      <td>0.0185</td>\n",
       "    </tr>\n",
       "    <tr>\n",
       "      <th>4</th>\n",
       "      <td>4</td>\n",
       "      <td>2016-12-19 11:33:00</td>\n",
       "      <td>0.0097</td>\n",
       "    </tr>\n",
       "  </tbody>\n",
       "</table>\n",
       "</div>"
      ],
      "text/plain": [
       "   index       Date and time      MB\n",
       "0      0 2016-12-19 02:11:00  0.0087\n",
       "1      1 2016-12-19 06:01:00  0.0097\n",
       "2      2 2016-12-19 07:04:00  0.4482\n",
       "3      3 2016-12-19 08:28:00  0.0185\n",
       "4      4 2016-12-19 11:33:00  0.0097"
      ]
     },
     "execution_count": 27,
     "metadata": {},
     "output_type": "execute_result"
    }
   ],
   "source": [
    "talk.head()\n",
    "text.head()\n",
    "data.head()"
   ]
  },
  {
   "cell_type": "code",
   "execution_count": 29,
   "metadata": {},
   "outputs": [],
   "source": [
    "data['Date and time'] = pd.to_datetime(data['Date and time'])\n",
    "text['Date and time'] = pd.to_datetime(text['Date and time'])\n",
    "talk['Date and time'] = pd.to_datetime(talk['Date and time'])\n",
    "data['MB'] = pd.to_numeric(data['MB'])"
   ]
  },
  {
   "cell_type": "markdown",
   "metadata": {},
   "source": [
    "I think the Data column is good for a seeing usage over a period of time, maybe seeing if there's a pattern in the my activity over the course of a day, or days of the week I'm more active. Otherwise, I may cache that for later.\n",
    "\n",
    "I think there's a number of graphs to be made form the Text and Talk sets.\n",
    "\n",
    "#### Text \n",
    "\n",
    "- A graph between me and identifiable phone numbers, outgoing.\n",
    "- A graph between me and identifiable phone numbers, incoming.\n",
    "- A graph between me (Seattle) and destinations, though this may not be accurate since the destination seems to be based on the area code of the phone number.\n",
    "- Activity over a day, week, or month.\n",
    "\n",
    "#### Talk\n",
    "- A weighted graph showing calls between phone numbers (people) and time talking.\n",
    "- A graph between me and identifiable phone numbers, outgoing.\n",
    "- A graph between me and identifiable phone numbers, incoming."
   ]
  },
  {
   "cell_type": "code",
   "execution_count": null,
   "metadata": {
    "scrolled": true
   },
   "outputs": [],
   "source": []
  },
  {
   "cell_type": "code",
   "execution_count": null,
   "metadata": {},
   "outputs": [],
   "source": []
  }
 ],
 "metadata": {
  "kernelspec": {
   "display_name": "Python 3",
   "language": "python",
   "name": "python3"
  },
  "language_info": {
   "codemirror_mode": {
    "name": "ipython",
    "version": 3
   },
   "file_extension": ".py",
   "mimetype": "text/x-python",
   "name": "python",
   "nbconvert_exporter": "python",
   "pygments_lexer": "ipython3",
   "version": "3.6.3"
  }
 },
 "nbformat": 4,
 "nbformat_minor": 2
}
