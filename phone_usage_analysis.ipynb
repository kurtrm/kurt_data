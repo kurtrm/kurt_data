{
 "cells": [
  {
   "cell_type": "markdown",
   "metadata": {},
   "source": [
    "## Communication Graph\n",
    "\n",
    "This notebook is dedicated to exploration and pattern finding in my cell phone bills which are in PDF formats. The ultimate goal is to make a graph out of it.\n",
    "\n",
    "After developing a pattern, I'll make a function or a class to do everything for me.\n",
    "\n",
    "#### Exploration and Pattern Finding\n",
    "\n",
    "The first section is just exploration."
   ]
  },
  {
   "cell_type": "code",
   "execution_count": 1,
   "metadata": {},
   "outputs": [],
   "source": [
    "# Set up.\n",
    "%matplotlib inline\n",
    "%pdb on\n",
    "\n",
    "from IPython.core.interactiveshell import InteractiveShell\n",
    "InteractiveShell.ast_node_interactivity = 'all'\n",
    "\n",
    "import matplotlib as plt\n",
    "import numpy as np\n",
    "import os\n",
    "import pandas as pd\n",
    "import seaborn\n",
    "\n",
    "#from tmobile_bill_parser import dictify_bill\n",
    "\n",
    "import PyPDF2"
   ]
  },
  {
   "cell_type": "code",
   "execution_count": 2,
   "metadata": {},
   "outputs": [
    {
     "data": {
      "text/plain": [
       "'Module for parsing tmobile bill PDFs.'"
      ]
     },
     "execution_count": 2,
     "metadata": {},
     "output_type": "execute_result"
    }
   ],
   "source": [
    "\"\"\"Module for parsing tmobile bill PDFs.\"\"\"\n",
    "\n",
    "\n",
    "def parse_bill(filename):\n",
    "    \"\"\"Master function to parse T-Mobile PDFs. Going to be broken up.\"\"\"\n",
    "\n",
    "    # ====== init ======\n",
    "    pdf_bill = PyPDF2.PdfFileReader(open(filename, 'rb'))\n",
    "    # So far, the relevant information starts on the 3rd (index) page\n",
    "    bill_dict = {}\n",
    "    section_dict = {}\n",
    "    # ====== init ======\n",
    "    \n",
    "    for page in range(3, pdf_bill.numPages):\n",
    "\n",
    "    # ======= Method for preparation of the text. ========\n",
    "        raw_page = pdf_bill.getPage(page)\n",
    "        text_page = raw_page.extractText()\n",
    "        split_text_page = text_page.split('\\n')\n",
    "        while '' in split_text_page:\n",
    "            split_text_page.remove('')\n",
    "    # ====================================================\n",
    "\n",
    "        if 'Total:' in split_text_page: # main function\n",
    "    \n",
    "    # ======= Method to handle discontinuous records =======\n",
    "            # Either the end of the pdf or switching to a new section\n",
    "            header = split_text_page.index('Date and time')\n",
    "            end_of_section = split_text_page.index('Total:')\n",
    "            second_dict = {}\n",
    "            section_label = split_text_page[header - 2]\n",
    "            for i, column in enumerate(split_text_page[header:header + 6]):\n",
    "                column_index = header + i\n",
    "                second_dict[column] = split_text_page[column_index + 6:end_of_section:6]\n",
    "            bill_dict[section_label] = {key: section_dict.get(key, []) + second_dict[key] for key in second_dict.keys()}\n",
    "            if end_of_section + 2 == 'Data':\n",
    "                start_of_next_section = end_of_section + 4\n",
    "            else:\n",
    "                start_of_next_section = end_of_section + 5\n",
    "            next_section = split_text_page[start_of_next_section::]\n",
    "            section_dict = {}\n",
    "            second_dict = {}\n",
    "            for column in next_section[:6]:\n",
    "                column_index = next_section.index(column)\n",
    "                section_dict[column] = next_section[column_index + 6::6]\n",
    "    # =======================================================\n",
    "\n",
    "        else:\n",
    "    # ======= Method to handle continuous list of records =======\n",
    "            pivot_index = split_text_page.index('Date and time')\n",
    "            for i, column in enumerate(split_text_page[pivot_index:pivot_index + 6]):\n",
    "                column_index = pivot_index + i\n",
    "                values = split_text_page[column_index + 6::6]\n",
    "                if column in section_dict:\n",
    "                    section_dict[column] = section_dict[column] + values\n",
    "                else:\n",
    "                    section_dict[column] = values\n",
    "    # ===============================================================\n",
    "\n",
    "    return bill_dict"
   ]
  },
  {
   "cell_type": "code",
   "execution_count": 3,
   "metadata": {},
   "outputs": [],
   "source": [
    "def parse_multiple_bills(directory):\n",
    "    \"\"\"Takes a list of filenames or a directory and returns several bills.\"\"\"\n",
    "    # Input validation -- check if anything other than a list of files or directory name.\n",
    "    list_of_bills = os.listdir(directory)\n",
    "    bill_directory = {}\n",
    "    for bill in list_of_bills:\n",
    "        path = 'bills/' + bill\n",
    "        bill_as_key = bill[:-4]\n",
    "        bill_directory[bill_as_key] = parse_bill(path)\n",
    "    \n",
    "    return bill_directory\n",
    "    \n",
    "    "
   ]
  }
 ],
 "metadata": {
  "kernelspec": {
   "display_name": "Python 3",
   "language": "python",
   "name": "python3"
  },
  "language_info": {
   "codemirror_mode": {
    "name": "ipython",
    "version": 3
   },
   "file_extension": ".py",
   "mimetype": "text/x-python",
   "name": "python",
   "nbconvert_exporter": "python",
   "pygments_lexer": "ipython3",
   "version": "3.6.3"
  }
 },
 "nbformat": 4,
 "nbformat_minor": 2
}
