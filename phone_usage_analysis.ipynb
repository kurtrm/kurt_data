{
 "cells": [
  {
   "cell_type": "markdown",
   "metadata": {},
   "source": [
    "## Communication Graph\n",
    "\n",
    "This notebook is dedicated to exploration and pattern finding in my cell phone bills which are in PDF formats. The ultimate goal is to make a graph out of it.\n",
    "\n",
    "After developing a pattern, I'll make a function or a class to do everything for me.\n",
    "\n",
    "#### Exploration and Pattern Finding\n",
    "\n",
    "The first section is just exploration."
   ]
  },
  {
   "cell_type": "code",
   "execution_count": 14,
   "metadata": {
    "scrolled": true
   },
   "outputs": [
    {
     "name": "stdout",
     "output_type": "stream",
     "text": [
      "Automatic pdb calling has been turned ON\n"
     ]
    }
   ],
   "source": [
    "# Set up.\n",
    "%matplotlib inline\n",
    "%pdb on\n",
    "\n",
    "from IPython.core.interactiveshell import InteractiveShell\n",
    "InteractiveShell.ast_node_interactivity = 'all'\n",
    "\n",
    "import matplotlib as plt\n",
    "import numpy as np\n",
    "import os\n",
    "import pandas as pd\n",
    "import seaborn\n",
    "import PyPDF2\n",
    "\n",
    "from tmobile_bill_parser import (\n",
    "    parse_bill,\n",
    "    parse_multiple_bills\n",
    ")"
   ]
  },
  {
   "cell_type": "code",
   "execution_count": 15,
   "metadata": {},
   "outputs": [],
   "source": [
    "bill_directory = parse_multiple_bills('bills')"
   ]
  },
  {
   "cell_type": "markdown",
   "metadata": {},
   "source": [
    "### Introduction\n",
    "\n",
    "- [ ] Make all data the proper datatype.\n",
    "- [ ] Separate destination into city and state.\n",
    "- [ ] Numbers must be in roughly the same format.\n",
    "- [ ] Treat Text, Data, and Talk as separate tables or graphs.\n",
    "- [ ] Mercury"
   ]
  },
  {
   "cell_type": "code",
   "execution_count": 31,
   "metadata": {
    "scrolled": true
   },
   "outputs": [],
   "source": [
    "text_dfs = [pd.DataFrame(bill_directory[bill_period]['Text']) for bill_period in bill_directory]\n",
    "data_dfs = [pd.DataFrame(bill_directory[bill_period]['Data']) for bill_period in bill_directory]\n",
    "talk_dfs = [pd.DataFrame(bill_directory[bill_period]['Talk']) for bill_period in bill_directory]\n",
    "\n",
    "text_df = pd.concat(text_dfs).reset_index()\n",
    "data_df = pd.concat(data_dfs).reset_index()\n",
    "talk_df = pd.concat(talk_dfs).reset_index()"
   ]
  },
  {
   "cell_type": "code",
   "execution_count": 29,
   "metadata": {},
   "outputs": [],
   "source": []
  }
 ],
 "metadata": {
  "kernelspec": {
   "display_name": "Python 3",
   "language": "python",
   "name": "python3"
  },
  "language_info": {
   "codemirror_mode": {
    "name": "ipython",
    "version": 3
   },
   "file_extension": ".py",
   "mimetype": "text/x-python",
   "name": "python",
   "nbconvert_exporter": "python",
   "pygments_lexer": "ipython3",
   "version": "3.6.3"
  }
 },
 "nbformat": 4,
 "nbformat_minor": 2
}
