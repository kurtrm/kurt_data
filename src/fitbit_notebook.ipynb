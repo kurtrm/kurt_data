{
 "cells": [
  {
   "cell_type": "code",
   "execution_count": 8,
   "metadata": {},
   "outputs": [],
   "source": [
    "# Set up.\n",
    "%matplotlib inline\n",
    "\n",
    "from IPython.core.interactiveshell import InteractiveShell\n",
    "InteractiveShell.ast_node_interactivity = 'all'\n",
    "\n",
    "import matplotlib as plt\n",
    "import numpy as np\n",
    "import pandas as pd\n",
    "import seaborn\n",
    "\n",
    "import fitbit_data\n",
    "\n",
    "np.random.seed(42)"
   ]
  },
  {
   "cell_type": "code",
   "execution_count": 12,
   "metadata": {},
   "outputs": [
    {
     "name": "stderr",
     "output_type": "stream",
     "text": [
      "[21/Oct/2017:22:54:24] ENGINE Listening for SIGTERM.\n",
      "INFO:cherrypy.error:[21/Oct/2017:22:54:24] ENGINE Listening for SIGTERM.\n",
      "[21/Oct/2017:22:54:24] ENGINE Listening for SIGHUP.\n",
      "INFO:cherrypy.error:[21/Oct/2017:22:54:24] ENGINE Listening for SIGHUP.\n",
      "[21/Oct/2017:22:54:24] ENGINE Listening for SIGUSR1.\n",
      "INFO:cherrypy.error:[21/Oct/2017:22:54:24] ENGINE Listening for SIGUSR1.\n",
      "[21/Oct/2017:22:54:24] ENGINE Bus STARTING\n",
      "INFO:cherrypy.error:[21/Oct/2017:22:54:24] ENGINE Bus STARTING\n",
      "CherryPy Checker:\n",
      "The Application mounted at '' has an empty config.\n",
      "\n",
      "[21/Oct/2017:22:54:24] ENGINE Started monitor thread '_TimeoutMonitor'.\n",
      "INFO:cherrypy.error:[21/Oct/2017:22:54:24] ENGINE Started monitor thread '_TimeoutMonitor'.\n",
      "[21/Oct/2017:22:54:24] ENGINE Started monitor thread 'Autoreloader'.\n",
      "INFO:cherrypy.error:[21/Oct/2017:22:54:24] ENGINE Started monitor thread 'Autoreloader'.\n",
      "[21/Oct/2017:22:54:25] ENGINE Serving on http://127.0.0.1:8080\n",
      "INFO:cherrypy.error:[21/Oct/2017:22:54:25] ENGINE Serving on http://127.0.0.1:8080\n",
      "[21/Oct/2017:22:54:25] ENGINE Bus STARTED\n",
      "INFO:cherrypy.error:[21/Oct/2017:22:54:25] ENGINE Bus STARTED\n"
     ]
    },
    {
     "name": "stdout",
     "output_type": "stream",
     "text": [
      "If the authorization page was not loaded automatically, enter the following url into the address bar: \n",
      " https://www.fitbit.com/oauth2/authorize?response_type=code&client_id=228N52&redirect_uri=http%3A%2F%2F127.0.0.1%3A8080%2F&scope=activity+nutrition+heartrate+location+nutrition+profile+settings+sleep+social+weight&state=4KHsJZHDcDedkockHk6aCaZ5m2WNn3\n",
      "127.0.0.1 - - [21/Oct/2017:22:54:28] \"GET /?code=6b998ce98e2efd3bb051d01c5de09ca66a894294&state=4KHsJZHDcDedkockHk6aCaZ5m2WNn3 HTTP/1.1\" 200 122 \"\" \"Mozilla/5.0 (X11; Ubuntu; Linux x86_64; rv:56.0) Gecko/20100101 Firefox/56.0\"\n"
     ]
    },
    {
     "name": "stderr",
     "output_type": "stream",
     "text": [
      "INFO:cherrypy.access.140117523087936:127.0.0.1 - - [21/Oct/2017:22:54:28] \"GET /?code=6b998ce98e2efd3bb051d01c5de09ca66a894294&state=4KHsJZHDcDedkockHk6aCaZ5m2WNn3 HTTP/1.1\" 200 122 \"\" \"Mozilla/5.0 (X11; Ubuntu; Linux x86_64; rv:56.0) Gecko/20100101 Firefox/56.0\"\n"
     ]
    },
    {
     "name": "stdout",
     "output_type": "stream",
     "text": [
      "127.0.0.1 - - [21/Oct/2017:22:54:28] \"GET /favicon.ico HTTP/1.1\" 200 1406 \"\" \"Mozilla/5.0 (X11; Ubuntu; Linux x86_64; rv:56.0) Gecko/20100101 Firefox/56.0\"\n"
     ]
    },
    {
     "name": "stderr",
     "output_type": "stream",
     "text": [
      "INFO:cherrypy.access.140117523087936:127.0.0.1 - - [21/Oct/2017:22:54:28] \"GET /favicon.ico HTTP/1.1\" 200 1406 \"\" \"Mozilla/5.0 (X11; Ubuntu; Linux x86_64; rv:56.0) Gecko/20100101 Firefox/56.0\"\n",
      "[21/Oct/2017:22:54:29] ENGINE Bus STOPPING\n",
      "INFO:cherrypy.error:[21/Oct/2017:22:54:29] ENGINE Bus STOPPING\n",
      "[21/Oct/2017:22:54:31] ENGINE HTTP Server cherrypy._cpwsgi_server.CPWSGIServer(('127.0.0.1', 8080)) shut down\n",
      "INFO:cherrypy.error:[21/Oct/2017:22:54:31] ENGINE HTTP Server cherrypy._cpwsgi_server.CPWSGIServer(('127.0.0.1', 8080)) shut down\n",
      "[21/Oct/2017:22:54:31] ENGINE Stopped thread 'Autoreloader'.\n",
      "INFO:cherrypy.error:[21/Oct/2017:22:54:31] ENGINE Stopped thread 'Autoreloader'.\n",
      "[21/Oct/2017:22:54:31] ENGINE Stopped thread '_TimeoutMonitor'.\n",
      "INFO:cherrypy.error:[21/Oct/2017:22:54:31] ENGINE Stopped thread '_TimeoutMonitor'.\n",
      "[21/Oct/2017:22:54:31] ENGINE Bus STOPPED\n",
      "INFO:cherrypy.error:[21/Oct/2017:22:54:31] ENGINE Bus STOPPED\n",
      "[21/Oct/2017:22:54:31] ENGINE Bus EXITING\n",
      "INFO:cherrypy.error:[21/Oct/2017:22:54:31] ENGINE Bus EXITING\n",
      "[21/Oct/2017:22:54:31] ENGINE Bus EXITED\n",
      "INFO:cherrypy.error:[21/Oct/2017:22:54:31] ENGINE Bus EXITED\n",
      "[21/Oct/2017:22:54:31] ENGINE Waiting for child threads to terminate...\n",
      "INFO:cherrypy.error:[21/Oct/2017:22:54:31] ENGINE Waiting for child threads to terminate...\n"
     ]
    }
   ],
   "source": [
    "kurt = fitbit_data.instantiate_fitbit_kurt()"
   ]
  },
  {
   "cell_type": "code",
   "execution_count": null,
   "metadata": {},
   "outputs": [],
   "source": [
    "kurt"
   ]
  },
  {
   "cell_type": "code",
   "execution_count": null,
   "metadata": {},
   "outputs": [],
   "source": []
  }
 ],
 "metadata": {
  "kernelspec": {
   "display_name": "Python 3",
   "language": "python",
   "name": "python3"
  },
  "language_info": {
   "codemirror_mode": {
    "name": "ipython",
    "version": 3
   },
   "file_extension": ".py",
   "mimetype": "text/x-python",
   "name": "python",
   "nbconvert_exporter": "python",
   "pygments_lexer": "ipython3",
   "version": "3.6.3"
  }
 },
 "nbformat": 4,
 "nbformat_minor": 2
}
